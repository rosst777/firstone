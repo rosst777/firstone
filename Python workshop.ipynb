{
  "cells": [
    {
      "cell_type": "markdown",
      "metadata": {
        "id": "view-in-github",
        "colab_type": "text"
      },
      "source": [
        "<a href=\"https://colab.research.google.com/github/rosst777/firstone/blob/main/Python%20workshop.ipynb\" target=\"_parent\"><img src=\"https://colab.research.google.com/assets/colab-badge.svg\" alt=\"Open In Colab\"/></a>"
      ]
    },
    {
      "cell_type": "markdown",
      "metadata": {
        "id": "5W64C3HbBQnq"
      },
      "source": [
        "![DSL_logo](https://github.com/BrockDSL/Python_2.0_Workshop/blob/master/dsl_logo.png?raw=1)\n",
        "\n",
        "\n",
        "# Data Science with Python!\n",
        "\n",
        "Welcome to the Digital Scholarship Lab Level 2 Python workshop. Before proceeding please make sure you've completed [part 1](https://brockdsl.github.io/Intro_to_Python_Workshop/) \n",
        "\n",
        "Which covers:\n",
        "- variables\n",
        "- math\n",
        "- conditional\n",
        "- loops\n",
        "- functions\n",
        "\n",
        "\n",
        "What we'll learn today is:\n",
        "- importing libraries\n",
        "- analyzing data with pandas\n",
        "- plotting data with matplotlib\n",
        "\n",
        "\n",
        "We'll be using Python as a Data Analysis tool\n",
        "This is how the [Kaggle](https://kaggle.com) website works\n"
      ]
    },
    {
      "cell_type": "markdown",
      "metadata": {
        "id": "o-403NSQBQnu"
      },
      "source": [
        "\n",
        "Before we get going the next cell should look totally familar to you"
      ]
    },
    {
      "cell_type": "code",
      "execution_count": null,
      "metadata": {
        "id": "soOsGb3wBQnv",
        "outputId": "8b0c0d78-3b05-4532-ae0c-5c6dfd0d95cc",
        "colab": {
          "base_uri": "https://localhost:8080/"
        }
      },
      "outputs": [
        {
          "output_type": "stream",
          "name": "stdout",
          "text": [
            "3.8333333333333335\n"
          ]
        }
      ],
      "source": [
        "scores = [3,5,6,2,1,6]\n",
        "\n",
        "def find_mean(scores):\n",
        "    \n",
        "    sum = 0\n",
        "    for s in scores:\n",
        "        sum = sum + s\n",
        "        \n",
        "    return sum/len(scores)\n",
        "\n",
        "\n",
        "print(find_mean(scores))"
      ]
    },
    {
      "cell_type": "markdown",
      "metadata": {
        "id": "6niVtA0wBQnw"
      },
      "source": [
        "----\n",
        "\n",
        "## Importing Libraries\n",
        "\n",
        "- Our end goal is to re-use as much code as possible\n",
        "- To do this we load in different Libraries using the `import` command\n",
        "- For this example we want to load in the [statistics](https://docs.python.org/3/library/statistics.html) library\n"
      ]
    },
    {
      "cell_type": "code",
      "execution_count": null,
      "metadata": {
        "id": "nLyT_gRoBQnx",
        "outputId": "ba1da0d9-78e3-4c6d-a989-77adea2be657",
        "colab": {
          "base_uri": "https://localhost:8080/"
        }
      },
      "outputs": [
        {
          "output_type": "stream",
          "name": "stdout",
          "text": [
            "3.8333333333333335\n",
            "4.0\n",
            "6\n"
          ]
        }
      ],
      "source": [
        "import statistics\n",
        "\n",
        "print(statistics.mean(scores))\n",
        "print(statistics.median(scores))\n",
        "print(statistics.mode(scores))\n"
      ]
    },
    {
      "cell_type": "markdown",
      "metadata": {
        "id": "F1UhJoeyBQnx"
      },
      "source": [
        "## Question time\n",
        "\n",
        "Try Q1 - Q2 below and type \"Got it\" in the chat when you are done."
      ]
    },
    {
      "cell_type": "markdown",
      "metadata": {
        "id": "rIAUmDOtBQny"
      },
      "source": [
        "- **Q1** We can use the [math](https://docs.python.org/3/library/math.html) library to do interesting calculations, but we need to import it first. Eg. the function that performs that finds the square root of a number is called `math.sqrt()` Modify the following code to print out the square root of the variable `number`."
      ]
    },
    {
      "cell_type": "code",
      "execution_count": null,
      "metadata": {
        "scrolled": false,
        "id": "RYTTABt4BQnz",
        "outputId": "afee33da-45d8-4ee8-ebb1-6f5881995bee",
        "colab": {
          "base_uri": "https://localhost:8080/"
        }
      },
      "outputs": [
        {
          "output_type": "stream",
          "name": "stdout",
          "text": [
            "81\n",
            "9.0\n"
          ]
        }
      ],
      "source": [
        "import math\n",
        "\n",
        "number = 81\n",
        "print(number)\n",
        "print (math.sqrt(81))"
      ]
    },
    {
      "cell_type": "markdown",
      "metadata": {
        "id": "jUwGPeaFBQnz"
      },
      "source": [
        "- **Q2** The `str` library is so important that it is included all the time Python runs. Try to print the contents of the variable `all_caps` to the screen in lower case letters. You can use `str.lower()` function on a string variable to do this. Modify the following code so that it prints out in lowercase. (Details on the [str](https://docs.python.org/3/library/string.html) library, if your interested)"
      ]
    },
    {
      "cell_type": "code",
      "execution_count": null,
      "metadata": {
        "id": "XkRIP239BQn0",
        "outputId": "ae86ac03-ef44-40e2-f643-f88e6c96ac25",
        "colab": {
          "base_uri": "https://localhost:8080/"
        }
      },
      "outputs": [
        {
          "output_type": "stream",
          "name": "stdout",
          "text": [
            "HELLO\n",
            "hello\n"
          ]
        }
      ],
      "source": [
        "all_caps = \"HELLO\"\n",
        "print(all_caps)\n",
        "print (str.lower(all_caps))\n",
        "\n"
      ]
    },
    {
      "cell_type": "markdown",
      "metadata": {
        "id": "t_PLQP1qBQn0"
      },
      "source": [
        "\n",
        "# EXERCISE: Analyzing Data\n",
        "\n",
        "![sick](https://upload.wikimedia.org/wikipedia/commons/9/97/Caladrius2.jpg)\n",
        "\n",
        "We'll be focusing on data analysis for the rest of this workshop so let's import some libraries: [pandas](https://pandas.pydata.org/), and [matplotlib](https://matplotlib.org)\n",
        "\n",
        "We'll be exploring how to do analysis with a riff of a data set taken from [Kaggle](https://www.kaggle.com/carlolepelaars/toy-dataset/). It has been localized with Canadian Cities and shortened a tad. Let's view the [file](canadian_toy_dataset.csv)\n",
        "\n",
        "---\n",
        "\n",
        "![excel preview](https://raw.githubusercontent.com/BrockDSL/Python_2.0_Workshop/master/data_in_excel.png)\n",
        "\n",
        "You could use Excel to do some of this analysis true, but if you have a large dataset, using Excel is going to be difficult to work with.\n",
        "\n",
        "\n",
        "The data has 5 columns\n",
        "- _City_ is a Canadian Cities\n",
        "- _Gender_ is the self reported gender of the person\n",
        "- _Age_ is a integer that represents how old the person in in the record is\n",
        "- _Income_ the annual salary of the person as an integer\n",
        "- _ill_ a 'Yes' or 'No' to indicate if the person is suffering from our mystery illness\n",
        "\n",
        "\n",
        "\n",
        "We want to explore the data to see if we can pick up any insights about who is ill and who is not ill. In part 3 of this workshop we will use machine learning to see if we can make predictions with the data.\n"
      ]
    },
    {
      "cell_type": "markdown",
      "metadata": {
        "id": "gTNwzuXYBQn1"
      },
      "source": [
        "- **Q3** What types of questions might we want to ask from the data? Provides some ideas in the Zoom chat box"
      ]
    },
    {
      "cell_type": "markdown",
      "metadata": {
        "id": "FvfFVWoNBQn1"
      },
      "source": [
        "## Loading the Libraries\n",
        "\n",
        "To get everything ready we need to load the following cell"
      ]
    },
    {
      "cell_type": "code",
      "execution_count": null,
      "metadata": {
        "id": "2Xjk4RY6BQn1",
        "outputId": "be31e3e8-6662-463d-e37d-fd133f752361",
        "colab": {
          "base_uri": "https://localhost:8080/"
        }
      },
      "outputs": [
        {
          "output_type": "stream",
          "name": "stdout",
          "text": [
            "Libraries loaded!\n"
          ]
        }
      ],
      "source": [
        "#Load the Library Pandas, that works with data\n",
        "import pandas as pd\n",
        "\n",
        "#Load the Library Numpy, that works with numerical calculations\n",
        "import numpy as np\n",
        "\n",
        "#These two libraries are often used together!\n",
        "\n",
        "print(\"Libraries loaded!\")"
      ]
    },
    {
      "cell_type": "markdown",
      "metadata": {
        "id": "Q_fCsR7eBQn2"
      },
      "source": [
        "## Loading the data\n",
        "\n",
        "- We'll load the data into a pandas `dataframe`. ([More Info](https://realpython.com/pandas-dataframe/)) A dataframe has a lot of properties we can use.\n",
        "- This data is complete, so we don't need to worry about incomplete rows in our observations\n",
        "- We'll take a look at the first 10 lines of the dataset"
      ]
    },
    {
      "cell_type": "code",
      "execution_count": null,
      "metadata": {
        "scrolled": false,
        "id": "nNqixByxBQn2",
        "outputId": "0c03523c-2bf5-4e88-e182-35d7d693497a",
        "colab": {
          "base_uri": "https://localhost:8080/",
          "height": 363
        }
      },
      "outputs": [
        {
          "output_type": "execute_result",
          "data": {
            "text/plain": [
              "       city  gender  age  income ill\n",
              "0  Montreal    Male   41   40367  No\n",
              "1  Montreal    Male   54   45084  No\n",
              "2  Montreal    Male   42   52483  No\n",
              "3  Montreal    Male   40   40941  No\n",
              "4  Montreal    Male   46   50289  No\n",
              "5  Montreal  Female   36   50786  No\n",
              "6  Montreal  Female   32   33155  No\n",
              "7  Montreal    Male   39   30914  No\n",
              "8  Montreal    Male   51   68667  No\n",
              "9  Montreal  Female   30   50082  No"
            ],
            "text/html": [
              "\n",
              "  <div id=\"df-82449849-7f05-400a-a6f5-cf706a482ee3\">\n",
              "    <div class=\"colab-df-container\">\n",
              "      <div>\n",
              "<style scoped>\n",
              "    .dataframe tbody tr th:only-of-type {\n",
              "        vertical-align: middle;\n",
              "    }\n",
              "\n",
              "    .dataframe tbody tr th {\n",
              "        vertical-align: top;\n",
              "    }\n",
              "\n",
              "    .dataframe thead th {\n",
              "        text-align: right;\n",
              "    }\n",
              "</style>\n",
              "<table border=\"1\" class=\"dataframe\">\n",
              "  <thead>\n",
              "    <tr style=\"text-align: right;\">\n",
              "      <th></th>\n",
              "      <th>city</th>\n",
              "      <th>gender</th>\n",
              "      <th>age</th>\n",
              "      <th>income</th>\n",
              "      <th>ill</th>\n",
              "    </tr>\n",
              "  </thead>\n",
              "  <tbody>\n",
              "    <tr>\n",
              "      <th>0</th>\n",
              "      <td>Montreal</td>\n",
              "      <td>Male</td>\n",
              "      <td>41</td>\n",
              "      <td>40367</td>\n",
              "      <td>No</td>\n",
              "    </tr>\n",
              "    <tr>\n",
              "      <th>1</th>\n",
              "      <td>Montreal</td>\n",
              "      <td>Male</td>\n",
              "      <td>54</td>\n",
              "      <td>45084</td>\n",
              "      <td>No</td>\n",
              "    </tr>\n",
              "    <tr>\n",
              "      <th>2</th>\n",
              "      <td>Montreal</td>\n",
              "      <td>Male</td>\n",
              "      <td>42</td>\n",
              "      <td>52483</td>\n",
              "      <td>No</td>\n",
              "    </tr>\n",
              "    <tr>\n",
              "      <th>3</th>\n",
              "      <td>Montreal</td>\n",
              "      <td>Male</td>\n",
              "      <td>40</td>\n",
              "      <td>40941</td>\n",
              "      <td>No</td>\n",
              "    </tr>\n",
              "    <tr>\n",
              "      <th>4</th>\n",
              "      <td>Montreal</td>\n",
              "      <td>Male</td>\n",
              "      <td>46</td>\n",
              "      <td>50289</td>\n",
              "      <td>No</td>\n",
              "    </tr>\n",
              "    <tr>\n",
              "      <th>5</th>\n",
              "      <td>Montreal</td>\n",
              "      <td>Female</td>\n",
              "      <td>36</td>\n",
              "      <td>50786</td>\n",
              "      <td>No</td>\n",
              "    </tr>\n",
              "    <tr>\n",
              "      <th>6</th>\n",
              "      <td>Montreal</td>\n",
              "      <td>Female</td>\n",
              "      <td>32</td>\n",
              "      <td>33155</td>\n",
              "      <td>No</td>\n",
              "    </tr>\n",
              "    <tr>\n",
              "      <th>7</th>\n",
              "      <td>Montreal</td>\n",
              "      <td>Male</td>\n",
              "      <td>39</td>\n",
              "      <td>30914</td>\n",
              "      <td>No</td>\n",
              "    </tr>\n",
              "    <tr>\n",
              "      <th>8</th>\n",
              "      <td>Montreal</td>\n",
              "      <td>Male</td>\n",
              "      <td>51</td>\n",
              "      <td>68667</td>\n",
              "      <td>No</td>\n",
              "    </tr>\n",
              "    <tr>\n",
              "      <th>9</th>\n",
              "      <td>Montreal</td>\n",
              "      <td>Female</td>\n",
              "      <td>30</td>\n",
              "      <td>50082</td>\n",
              "      <td>No</td>\n",
              "    </tr>\n",
              "  </tbody>\n",
              "</table>\n",
              "</div>\n",
              "      <button class=\"colab-df-convert\" onclick=\"convertToInteractive('df-82449849-7f05-400a-a6f5-cf706a482ee3')\"\n",
              "              title=\"Convert this dataframe to an interactive table.\"\n",
              "              style=\"display:none;\">\n",
              "        \n",
              "  <svg xmlns=\"http://www.w3.org/2000/svg\" height=\"24px\"viewBox=\"0 0 24 24\"\n",
              "       width=\"24px\">\n",
              "    <path d=\"M0 0h24v24H0V0z\" fill=\"none\"/>\n",
              "    <path d=\"M18.56 5.44l.94 2.06.94-2.06 2.06-.94-2.06-.94-.94-2.06-.94 2.06-2.06.94zm-11 1L8.5 8.5l.94-2.06 2.06-.94-2.06-.94L8.5 2.5l-.94 2.06-2.06.94zm10 10l.94 2.06.94-2.06 2.06-.94-2.06-.94-.94-2.06-.94 2.06-2.06.94z\"/><path d=\"M17.41 7.96l-1.37-1.37c-.4-.4-.92-.59-1.43-.59-.52 0-1.04.2-1.43.59L10.3 9.45l-7.72 7.72c-.78.78-.78 2.05 0 2.83L4 21.41c.39.39.9.59 1.41.59.51 0 1.02-.2 1.41-.59l7.78-7.78 2.81-2.81c.8-.78.8-2.07 0-2.86zM5.41 20L4 18.59l7.72-7.72 1.47 1.35L5.41 20z\"/>\n",
              "  </svg>\n",
              "      </button>\n",
              "      \n",
              "  <style>\n",
              "    .colab-df-container {\n",
              "      display:flex;\n",
              "      flex-wrap:wrap;\n",
              "      gap: 12px;\n",
              "    }\n",
              "\n",
              "    .colab-df-convert {\n",
              "      background-color: #E8F0FE;\n",
              "      border: none;\n",
              "      border-radius: 50%;\n",
              "      cursor: pointer;\n",
              "      display: none;\n",
              "      fill: #1967D2;\n",
              "      height: 32px;\n",
              "      padding: 0 0 0 0;\n",
              "      width: 32px;\n",
              "    }\n",
              "\n",
              "    .colab-df-convert:hover {\n",
              "      background-color: #E2EBFA;\n",
              "      box-shadow: 0px 1px 2px rgba(60, 64, 67, 0.3), 0px 1px 3px 1px rgba(60, 64, 67, 0.15);\n",
              "      fill: #174EA6;\n",
              "    }\n",
              "\n",
              "    [theme=dark] .colab-df-convert {\n",
              "      background-color: #3B4455;\n",
              "      fill: #D2E3FC;\n",
              "    }\n",
              "\n",
              "    [theme=dark] .colab-df-convert:hover {\n",
              "      background-color: #434B5C;\n",
              "      box-shadow: 0px 1px 3px 1px rgba(0, 0, 0, 0.15);\n",
              "      filter: drop-shadow(0px 1px 2px rgba(0, 0, 0, 0.3));\n",
              "      fill: #FFFFFF;\n",
              "    }\n",
              "  </style>\n",
              "\n",
              "      <script>\n",
              "        const buttonEl =\n",
              "          document.querySelector('#df-82449849-7f05-400a-a6f5-cf706a482ee3 button.colab-df-convert');\n",
              "        buttonEl.style.display =\n",
              "          google.colab.kernel.accessAllowed ? 'block' : 'none';\n",
              "\n",
              "        async function convertToInteractive(key) {\n",
              "          const element = document.querySelector('#df-82449849-7f05-400a-a6f5-cf706a482ee3');\n",
              "          const dataTable =\n",
              "            await google.colab.kernel.invokeFunction('convertToInteractive',\n",
              "                                                     [key], {});\n",
              "          if (!dataTable) return;\n",
              "\n",
              "          const docLinkHtml = 'Like what you see? Visit the ' +\n",
              "            '<a target=\"_blank\" href=https://colab.research.google.com/notebooks/data_table.ipynb>data table notebook</a>'\n",
              "            + ' to learn more about interactive tables.';\n",
              "          element.innerHTML = '';\n",
              "          dataTable['output_type'] = 'display_data';\n",
              "          await google.colab.output.renderOutput(dataTable, element);\n",
              "          const docLink = document.createElement('div');\n",
              "          docLink.innerHTML = docLinkHtml;\n",
              "          element.appendChild(docLink);\n",
              "        }\n",
              "      </script>\n",
              "    </div>\n",
              "  </div>\n",
              "  "
            ]
          },
          "metadata": {},
          "execution_count": 16
        }
      ],
      "source": [
        "#Load the file into a dataframe using the pandas read_csv function\n",
        "data = pd.read_csv(\"https://brockdsl.github.io/Python_2.0_Workshop/canadian_toy_dataset.csv\")\n",
        "\n",
        "#Tell it what our columns are by passing along a list of that information\n",
        "data.columns = [\"city\",\"gender\",\"age\",\"income\",\"ill\"]\n",
        "\n",
        "#Show the first 10 lines\n",
        "data.head(10)"
      ]
    },
    {
      "cell_type": "markdown",
      "metadata": {
        "id": "DhnTlRNtBQn2"
      },
      "source": [
        "Pandas can provide us some nice quantitative details about our data by calling the `describe()` function"
      ]
    },
    {
      "cell_type": "code",
      "execution_count": null,
      "metadata": {
        "id": "2mC2G4PlBQn3",
        "outputId": "124ff11f-3b7f-46c5-dea2-1250ce64694b",
        "colab": {
          "base_uri": "https://localhost:8080/",
          "height": 300
        }
      },
      "outputs": [
        {
          "output_type": "execute_result",
          "data": {
            "text/plain": [
              "                 age         income\n",
              "count  150000.000000  150000.000000\n",
              "mean       44.950200   91252.798273\n",
              "std        11.572486   24989.500948\n",
              "min        25.000000    -654.000000\n",
              "25%        35.000000   80867.750000\n",
              "50%        45.000000   93655.000000\n",
              "75%        55.000000  104519.000000\n",
              "max        65.000000  177157.000000"
            ],
            "text/html": [
              "\n",
              "  <div id=\"df-b6f1f8e0-2996-4c32-a2be-ee010809c77d\">\n",
              "    <div class=\"colab-df-container\">\n",
              "      <div>\n",
              "<style scoped>\n",
              "    .dataframe tbody tr th:only-of-type {\n",
              "        vertical-align: middle;\n",
              "    }\n",
              "\n",
              "    .dataframe tbody tr th {\n",
              "        vertical-align: top;\n",
              "    }\n",
              "\n",
              "    .dataframe thead th {\n",
              "        text-align: right;\n",
              "    }\n",
              "</style>\n",
              "<table border=\"1\" class=\"dataframe\">\n",
              "  <thead>\n",
              "    <tr style=\"text-align: right;\">\n",
              "      <th></th>\n",
              "      <th>age</th>\n",
              "      <th>income</th>\n",
              "    </tr>\n",
              "  </thead>\n",
              "  <tbody>\n",
              "    <tr>\n",
              "      <th>count</th>\n",
              "      <td>150000.000000</td>\n",
              "      <td>150000.000000</td>\n",
              "    </tr>\n",
              "    <tr>\n",
              "      <th>mean</th>\n",
              "      <td>44.950200</td>\n",
              "      <td>91252.798273</td>\n",
              "    </tr>\n",
              "    <tr>\n",
              "      <th>std</th>\n",
              "      <td>11.572486</td>\n",
              "      <td>24989.500948</td>\n",
              "    </tr>\n",
              "    <tr>\n",
              "      <th>min</th>\n",
              "      <td>25.000000</td>\n",
              "      <td>-654.000000</td>\n",
              "    </tr>\n",
              "    <tr>\n",
              "      <th>25%</th>\n",
              "      <td>35.000000</td>\n",
              "      <td>80867.750000</td>\n",
              "    </tr>\n",
              "    <tr>\n",
              "      <th>50%</th>\n",
              "      <td>45.000000</td>\n",
              "      <td>93655.000000</td>\n",
              "    </tr>\n",
              "    <tr>\n",
              "      <th>75%</th>\n",
              "      <td>55.000000</td>\n",
              "      <td>104519.000000</td>\n",
              "    </tr>\n",
              "    <tr>\n",
              "      <th>max</th>\n",
              "      <td>65.000000</td>\n",
              "      <td>177157.000000</td>\n",
              "    </tr>\n",
              "  </tbody>\n",
              "</table>\n",
              "</div>\n",
              "      <button class=\"colab-df-convert\" onclick=\"convertToInteractive('df-b6f1f8e0-2996-4c32-a2be-ee010809c77d')\"\n",
              "              title=\"Convert this dataframe to an interactive table.\"\n",
              "              style=\"display:none;\">\n",
              "        \n",
              "  <svg xmlns=\"http://www.w3.org/2000/svg\" height=\"24px\"viewBox=\"0 0 24 24\"\n",
              "       width=\"24px\">\n",
              "    <path d=\"M0 0h24v24H0V0z\" fill=\"none\"/>\n",
              "    <path d=\"M18.56 5.44l.94 2.06.94-2.06 2.06-.94-2.06-.94-.94-2.06-.94 2.06-2.06.94zm-11 1L8.5 8.5l.94-2.06 2.06-.94-2.06-.94L8.5 2.5l-.94 2.06-2.06.94zm10 10l.94 2.06.94-2.06 2.06-.94-2.06-.94-.94-2.06-.94 2.06-2.06.94z\"/><path d=\"M17.41 7.96l-1.37-1.37c-.4-.4-.92-.59-1.43-.59-.52 0-1.04.2-1.43.59L10.3 9.45l-7.72 7.72c-.78.78-.78 2.05 0 2.83L4 21.41c.39.39.9.59 1.41.59.51 0 1.02-.2 1.41-.59l7.78-7.78 2.81-2.81c.8-.78.8-2.07 0-2.86zM5.41 20L4 18.59l7.72-7.72 1.47 1.35L5.41 20z\"/>\n",
              "  </svg>\n",
              "      </button>\n",
              "      \n",
              "  <style>\n",
              "    .colab-df-container {\n",
              "      display:flex;\n",
              "      flex-wrap:wrap;\n",
              "      gap: 12px;\n",
              "    }\n",
              "\n",
              "    .colab-df-convert {\n",
              "      background-color: #E8F0FE;\n",
              "      border: none;\n",
              "      border-radius: 50%;\n",
              "      cursor: pointer;\n",
              "      display: none;\n",
              "      fill: #1967D2;\n",
              "      height: 32px;\n",
              "      padding: 0 0 0 0;\n",
              "      width: 32px;\n",
              "    }\n",
              "\n",
              "    .colab-df-convert:hover {\n",
              "      background-color: #E2EBFA;\n",
              "      box-shadow: 0px 1px 2px rgba(60, 64, 67, 0.3), 0px 1px 3px 1px rgba(60, 64, 67, 0.15);\n",
              "      fill: #174EA6;\n",
              "    }\n",
              "\n",
              "    [theme=dark] .colab-df-convert {\n",
              "      background-color: #3B4455;\n",
              "      fill: #D2E3FC;\n",
              "    }\n",
              "\n",
              "    [theme=dark] .colab-df-convert:hover {\n",
              "      background-color: #434B5C;\n",
              "      box-shadow: 0px 1px 3px 1px rgba(0, 0, 0, 0.15);\n",
              "      filter: drop-shadow(0px 1px 2px rgba(0, 0, 0, 0.3));\n",
              "      fill: #FFFFFF;\n",
              "    }\n",
              "  </style>\n",
              "\n",
              "      <script>\n",
              "        const buttonEl =\n",
              "          document.querySelector('#df-b6f1f8e0-2996-4c32-a2be-ee010809c77d button.colab-df-convert');\n",
              "        buttonEl.style.display =\n",
              "          google.colab.kernel.accessAllowed ? 'block' : 'none';\n",
              "\n",
              "        async function convertToInteractive(key) {\n",
              "          const element = document.querySelector('#df-b6f1f8e0-2996-4c32-a2be-ee010809c77d');\n",
              "          const dataTable =\n",
              "            await google.colab.kernel.invokeFunction('convertToInteractive',\n",
              "                                                     [key], {});\n",
              "          if (!dataTable) return;\n",
              "\n",
              "          const docLinkHtml = 'Like what you see? Visit the ' +\n",
              "            '<a target=\"_blank\" href=https://colab.research.google.com/notebooks/data_table.ipynb>data table notebook</a>'\n",
              "            + ' to learn more about interactive tables.';\n",
              "          element.innerHTML = '';\n",
              "          dataTable['output_type'] = 'display_data';\n",
              "          await google.colab.output.renderOutput(dataTable, element);\n",
              "          const docLink = document.createElement('div');\n",
              "          docLink.innerHTML = docLinkHtml;\n",
              "          element.appendChild(docLink);\n",
              "        }\n",
              "      </script>\n",
              "    </div>\n",
              "  </div>\n",
              "  "
            ]
          },
          "metadata": {},
          "execution_count": 10
        }
      ],
      "source": [
        "data.describe()"
      ]
    },
    {
      "cell_type": "markdown",
      "metadata": {
        "id": "8gQQBgbdBQn3"
      },
      "source": [
        "## Grouping and  Counting\n",
        "\n",
        "- We can also gather the entries we need by grouping them together with the `.groupby()` function. We can chain these things together to ask very specific questions of the data.\n",
        "- We pass what column we'd like to group the data by\n",
        "- We add `.count()` if we are just interested in the counts and not the dataframe\n"
      ]
    },
    {
      "cell_type": "markdown",
      "metadata": {
        "id": "hZxSoGUnBQn3"
      },
      "source": [
        "How many people are `ill`?"
      ]
    },
    {
      "cell_type": "code",
      "execution_count": null,
      "metadata": {
        "scrolled": false,
        "id": "TJXr0vmZBQn3",
        "outputId": "74e3ec31-ca2b-47f6-ab54-581db04bcf5e",
        "colab": {
          "base_uri": "https://localhost:8080/"
        }
      },
      "outputs": [
        {
          "output_type": "execute_result",
          "data": {
            "text/plain": [
              "<pandas.core.groupby.generic.DataFrameGroupBy object at 0x7f72195fca10>"
            ]
          },
          "metadata": {},
          "execution_count": 17
        }
      ],
      "source": [
        "data.groupby(\"ill\")"
      ]
    },
    {
      "cell_type": "code",
      "execution_count": null,
      "metadata": {
        "scrolled": true,
        "id": "bQhwAps_BQn3",
        "outputId": "c7c37b01-d580-4c80-e5fe-6aced8f28467",
        "colab": {
          "base_uri": "https://localhost:8080/",
          "height": 143
        }
      },
      "outputs": [
        {
          "output_type": "execute_result",
          "data": {
            "text/plain": [
              "       city  gender     age  income\n",
              "ill                                \n",
              "No   137861  137861  137861  137861\n",
              "Yes   12139   12139   12139   12139"
            ],
            "text/html": [
              "\n",
              "  <div id=\"df-ec7bcaef-03be-49a1-afa2-8aa2adad85d9\">\n",
              "    <div class=\"colab-df-container\">\n",
              "      <div>\n",
              "<style scoped>\n",
              "    .dataframe tbody tr th:only-of-type {\n",
              "        vertical-align: middle;\n",
              "    }\n",
              "\n",
              "    .dataframe tbody tr th {\n",
              "        vertical-align: top;\n",
              "    }\n",
              "\n",
              "    .dataframe thead th {\n",
              "        text-align: right;\n",
              "    }\n",
              "</style>\n",
              "<table border=\"1\" class=\"dataframe\">\n",
              "  <thead>\n",
              "    <tr style=\"text-align: right;\">\n",
              "      <th></th>\n",
              "      <th>city</th>\n",
              "      <th>gender</th>\n",
              "      <th>age</th>\n",
              "      <th>income</th>\n",
              "    </tr>\n",
              "    <tr>\n",
              "      <th>ill</th>\n",
              "      <th></th>\n",
              "      <th></th>\n",
              "      <th></th>\n",
              "      <th></th>\n",
              "    </tr>\n",
              "  </thead>\n",
              "  <tbody>\n",
              "    <tr>\n",
              "      <th>No</th>\n",
              "      <td>137861</td>\n",
              "      <td>137861</td>\n",
              "      <td>137861</td>\n",
              "      <td>137861</td>\n",
              "    </tr>\n",
              "    <tr>\n",
              "      <th>Yes</th>\n",
              "      <td>12139</td>\n",
              "      <td>12139</td>\n",
              "      <td>12139</td>\n",
              "      <td>12139</td>\n",
              "    </tr>\n",
              "  </tbody>\n",
              "</table>\n",
              "</div>\n",
              "      <button class=\"colab-df-convert\" onclick=\"convertToInteractive('df-ec7bcaef-03be-49a1-afa2-8aa2adad85d9')\"\n",
              "              title=\"Convert this dataframe to an interactive table.\"\n",
              "              style=\"display:none;\">\n",
              "        \n",
              "  <svg xmlns=\"http://www.w3.org/2000/svg\" height=\"24px\"viewBox=\"0 0 24 24\"\n",
              "       width=\"24px\">\n",
              "    <path d=\"M0 0h24v24H0V0z\" fill=\"none\"/>\n",
              "    <path d=\"M18.56 5.44l.94 2.06.94-2.06 2.06-.94-2.06-.94-.94-2.06-.94 2.06-2.06.94zm-11 1L8.5 8.5l.94-2.06 2.06-.94-2.06-.94L8.5 2.5l-.94 2.06-2.06.94zm10 10l.94 2.06.94-2.06 2.06-.94-2.06-.94-.94-2.06-.94 2.06-2.06.94z\"/><path d=\"M17.41 7.96l-1.37-1.37c-.4-.4-.92-.59-1.43-.59-.52 0-1.04.2-1.43.59L10.3 9.45l-7.72 7.72c-.78.78-.78 2.05 0 2.83L4 21.41c.39.39.9.59 1.41.59.51 0 1.02-.2 1.41-.59l7.78-7.78 2.81-2.81c.8-.78.8-2.07 0-2.86zM5.41 20L4 18.59l7.72-7.72 1.47 1.35L5.41 20z\"/>\n",
              "  </svg>\n",
              "      </button>\n",
              "      \n",
              "  <style>\n",
              "    .colab-df-container {\n",
              "      display:flex;\n",
              "      flex-wrap:wrap;\n",
              "      gap: 12px;\n",
              "    }\n",
              "\n",
              "    .colab-df-convert {\n",
              "      background-color: #E8F0FE;\n",
              "      border: none;\n",
              "      border-radius: 50%;\n",
              "      cursor: pointer;\n",
              "      display: none;\n",
              "      fill: #1967D2;\n",
              "      height: 32px;\n",
              "      padding: 0 0 0 0;\n",
              "      width: 32px;\n",
              "    }\n",
              "\n",
              "    .colab-df-convert:hover {\n",
              "      background-color: #E2EBFA;\n",
              "      box-shadow: 0px 1px 2px rgba(60, 64, 67, 0.3), 0px 1px 3px 1px rgba(60, 64, 67, 0.15);\n",
              "      fill: #174EA6;\n",
              "    }\n",
              "\n",
              "    [theme=dark] .colab-df-convert {\n",
              "      background-color: #3B4455;\n",
              "      fill: #D2E3FC;\n",
              "    }\n",
              "\n",
              "    [theme=dark] .colab-df-convert:hover {\n",
              "      background-color: #434B5C;\n",
              "      box-shadow: 0px 1px 3px 1px rgba(0, 0, 0, 0.15);\n",
              "      filter: drop-shadow(0px 1px 2px rgba(0, 0, 0, 0.3));\n",
              "      fill: #FFFFFF;\n",
              "    }\n",
              "  </style>\n",
              "\n",
              "      <script>\n",
              "        const buttonEl =\n",
              "          document.querySelector('#df-ec7bcaef-03be-49a1-afa2-8aa2adad85d9 button.colab-df-convert');\n",
              "        buttonEl.style.display =\n",
              "          google.colab.kernel.accessAllowed ? 'block' : 'none';\n",
              "\n",
              "        async function convertToInteractive(key) {\n",
              "          const element = document.querySelector('#df-ec7bcaef-03be-49a1-afa2-8aa2adad85d9');\n",
              "          const dataTable =\n",
              "            await google.colab.kernel.invokeFunction('convertToInteractive',\n",
              "                                                     [key], {});\n",
              "          if (!dataTable) return;\n",
              "\n",
              "          const docLinkHtml = 'Like what you see? Visit the ' +\n",
              "            '<a target=\"_blank\" href=https://colab.research.google.com/notebooks/data_table.ipynb>data table notebook</a>'\n",
              "            + ' to learn more about interactive tables.';\n",
              "          element.innerHTML = '';\n",
              "          dataTable['output_type'] = 'display_data';\n",
              "          await google.colab.output.renderOutput(dataTable, element);\n",
              "          const docLink = document.createElement('div');\n",
              "          docLink.innerHTML = docLinkHtml;\n",
              "          element.appendChild(docLink);\n",
              "        }\n",
              "      </script>\n",
              "    </div>\n",
              "  </div>\n",
              "  "
            ]
          },
          "metadata": {},
          "execution_count": 18
        }
      ],
      "source": [
        "data.groupby(\"ill\").count()"
      ]
    },
    {
      "cell_type": "markdown",
      "metadata": {
        "id": "rgWT9cfGBQn4"
      },
      "source": [
        "Try questions Q4 & Q5 below and type \"Finished!\" in the chat box when you are done"
      ]
    },
    {
      "cell_type": "markdown",
      "metadata": {
        "id": "paQZHNJQBQn4"
      },
      "source": [
        "- **Q4** How many people are `Male` in this dataset?"
      ]
    },
    {
      "cell_type": "code",
      "execution_count": null,
      "metadata": {
        "id": "B2RFDHxqBQn4",
        "outputId": "fe77c6fb-2b67-4711-ef41-3757e41ff845",
        "colab": {
          "base_uri": "https://localhost:8080/",
          "height": 143
        }
      },
      "outputs": [
        {
          "output_type": "execute_result",
          "data": {
            "text/plain": [
              "         city    age  income    ill\n",
              "gender                             \n",
              "Female  66200  66200   66200  66200\n",
              "Male    83800  83800   83800  83800"
            ],
            "text/html": [
              "\n",
              "  <div id=\"df-204c6af8-5157-4a9c-b0f8-5c69661c05b5\">\n",
              "    <div class=\"colab-df-container\">\n",
              "      <div>\n",
              "<style scoped>\n",
              "    .dataframe tbody tr th:only-of-type {\n",
              "        vertical-align: middle;\n",
              "    }\n",
              "\n",
              "    .dataframe tbody tr th {\n",
              "        vertical-align: top;\n",
              "    }\n",
              "\n",
              "    .dataframe thead th {\n",
              "        text-align: right;\n",
              "    }\n",
              "</style>\n",
              "<table border=\"1\" class=\"dataframe\">\n",
              "  <thead>\n",
              "    <tr style=\"text-align: right;\">\n",
              "      <th></th>\n",
              "      <th>city</th>\n",
              "      <th>age</th>\n",
              "      <th>income</th>\n",
              "      <th>ill</th>\n",
              "    </tr>\n",
              "    <tr>\n",
              "      <th>gender</th>\n",
              "      <th></th>\n",
              "      <th></th>\n",
              "      <th></th>\n",
              "      <th></th>\n",
              "    </tr>\n",
              "  </thead>\n",
              "  <tbody>\n",
              "    <tr>\n",
              "      <th>Female</th>\n",
              "      <td>66200</td>\n",
              "      <td>66200</td>\n",
              "      <td>66200</td>\n",
              "      <td>66200</td>\n",
              "    </tr>\n",
              "    <tr>\n",
              "      <th>Male</th>\n",
              "      <td>83800</td>\n",
              "      <td>83800</td>\n",
              "      <td>83800</td>\n",
              "      <td>83800</td>\n",
              "    </tr>\n",
              "  </tbody>\n",
              "</table>\n",
              "</div>\n",
              "      <button class=\"colab-df-convert\" onclick=\"convertToInteractive('df-204c6af8-5157-4a9c-b0f8-5c69661c05b5')\"\n",
              "              title=\"Convert this dataframe to an interactive table.\"\n",
              "              style=\"display:none;\">\n",
              "        \n",
              "  <svg xmlns=\"http://www.w3.org/2000/svg\" height=\"24px\"viewBox=\"0 0 24 24\"\n",
              "       width=\"24px\">\n",
              "    <path d=\"M0 0h24v24H0V0z\" fill=\"none\"/>\n",
              "    <path d=\"M18.56 5.44l.94 2.06.94-2.06 2.06-.94-2.06-.94-.94-2.06-.94 2.06-2.06.94zm-11 1L8.5 8.5l.94-2.06 2.06-.94-2.06-.94L8.5 2.5l-.94 2.06-2.06.94zm10 10l.94 2.06.94-2.06 2.06-.94-2.06-.94-.94-2.06-.94 2.06-2.06.94z\"/><path d=\"M17.41 7.96l-1.37-1.37c-.4-.4-.92-.59-1.43-.59-.52 0-1.04.2-1.43.59L10.3 9.45l-7.72 7.72c-.78.78-.78 2.05 0 2.83L4 21.41c.39.39.9.59 1.41.59.51 0 1.02-.2 1.41-.59l7.78-7.78 2.81-2.81c.8-.78.8-2.07 0-2.86zM5.41 20L4 18.59l7.72-7.72 1.47 1.35L5.41 20z\"/>\n",
              "  </svg>\n",
              "      </button>\n",
              "      \n",
              "  <style>\n",
              "    .colab-df-container {\n",
              "      display:flex;\n",
              "      flex-wrap:wrap;\n",
              "      gap: 12px;\n",
              "    }\n",
              "\n",
              "    .colab-df-convert {\n",
              "      background-color: #E8F0FE;\n",
              "      border: none;\n",
              "      border-radius: 50%;\n",
              "      cursor: pointer;\n",
              "      display: none;\n",
              "      fill: #1967D2;\n",
              "      height: 32px;\n",
              "      padding: 0 0 0 0;\n",
              "      width: 32px;\n",
              "    }\n",
              "\n",
              "    .colab-df-convert:hover {\n",
              "      background-color: #E2EBFA;\n",
              "      box-shadow: 0px 1px 2px rgba(60, 64, 67, 0.3), 0px 1px 3px 1px rgba(60, 64, 67, 0.15);\n",
              "      fill: #174EA6;\n",
              "    }\n",
              "\n",
              "    [theme=dark] .colab-df-convert {\n",
              "      background-color: #3B4455;\n",
              "      fill: #D2E3FC;\n",
              "    }\n",
              "\n",
              "    [theme=dark] .colab-df-convert:hover {\n",
              "      background-color: #434B5C;\n",
              "      box-shadow: 0px 1px 3px 1px rgba(0, 0, 0, 0.15);\n",
              "      filter: drop-shadow(0px 1px 2px rgba(0, 0, 0, 0.3));\n",
              "      fill: #FFFFFF;\n",
              "    }\n",
              "  </style>\n",
              "\n",
              "      <script>\n",
              "        const buttonEl =\n",
              "          document.querySelector('#df-204c6af8-5157-4a9c-b0f8-5c69661c05b5 button.colab-df-convert');\n",
              "        buttonEl.style.display =\n",
              "          google.colab.kernel.accessAllowed ? 'block' : 'none';\n",
              "\n",
              "        async function convertToInteractive(key) {\n",
              "          const element = document.querySelector('#df-204c6af8-5157-4a9c-b0f8-5c69661c05b5');\n",
              "          const dataTable =\n",
              "            await google.colab.kernel.invokeFunction('convertToInteractive',\n",
              "                                                     [key], {});\n",
              "          if (!dataTable) return;\n",
              "\n",
              "          const docLinkHtml = 'Like what you see? Visit the ' +\n",
              "            '<a target=\"_blank\" href=https://colab.research.google.com/notebooks/data_table.ipynb>data table notebook</a>'\n",
              "            + ' to learn more about interactive tables.';\n",
              "          element.innerHTML = '';\n",
              "          dataTable['output_type'] = 'display_data';\n",
              "          await google.colab.output.renderOutput(dataTable, element);\n",
              "          const docLink = document.createElement('div');\n",
              "          docLink.innerHTML = docLinkHtml;\n",
              "          element.appendChild(docLink);\n",
              "        }\n",
              "      </script>\n",
              "    </div>\n",
              "  </div>\n",
              "  "
            ]
          },
          "metadata": {},
          "execution_count": 19
        }
      ],
      "source": [
        "data.groupby(\"gender\").count()"
      ]
    },
    {
      "cell_type": "markdown",
      "metadata": {
        "id": "-tWh5ZfeBQn4"
      },
      "source": [
        "- **Q5** How many different cities are in the dataset?"
      ]
    },
    {
      "cell_type": "code",
      "execution_count": null,
      "metadata": {
        "scrolled": true,
        "id": "okWDH35ABQn4",
        "outputId": "f9e5f134-1909-4555-a24d-af38c5acaa4e",
        "colab": {
          "base_uri": "https://localhost:8080/"
        }
      },
      "outputs": [
        {
          "output_type": "execute_result",
          "data": {
            "text/plain": [
              "city\n",
              "Edmonton     12292\n",
              "Halifax       8301\n",
              "Montreal     19707\n",
              "Ottawa        8120\n",
              "Regina        4881\n",
              "Toronto      50307\n",
              "Vancouver    32173\n",
              "Waterloo     14219\n",
              "Name: city, dtype: int64"
            ]
          },
          "metadata": {},
          "execution_count": 24
        }
      ],
      "source": [
        "data.groupby(\"city\").count()"
      ]
    },
    {
      "cell_type": "markdown",
      "metadata": {
        "id": "8WJ4_dCABQn4"
      },
      "source": [
        "# Square brackets, parentheses, and curly braces\n",
        "\n",
        "One of the things I hear the most from people first learning Python is, 'when should I use brackets, when should I use braces' The best way I can answer that is with the following:\n",
        "\n",
        "- ` ( ) ` round brackets, or parentheses, when dealing with functions\n",
        "- ` [ ] ` square brackets when dealing with lists. eg. all the parameters we pass to dataframes are lists\n",
        "- ` { } ` when we are dealing with dictionaries\n",
        "\n",
        "These are general rules but they should work ok for about 95% of the cases you'll encounter.\n"
      ]
    },
    {
      "cell_type": "markdown",
      "metadata": {
        "id": "bzepMM2rBQn5"
      },
      "source": [
        "\n",
        "\n",
        "## Grouping and applying functions\n",
        "\n",
        "- If we want to do some math on the data we need to cluster it together a bit. We use `.groupby()` and then apply our mathematical functions to the result\n",
        "- Here we'll use the following 3 functions:\n",
        " - `mean()` finds the arithmetic mean of the data\n",
        " - `max()` finds the largest occurence of data in that column\n",
        " - `min()` finds the smallest occurennce of data in that column\n"
      ]
    },
    {
      "cell_type": "markdown",
      "metadata": {
        "id": "eTQlwd41BQn5"
      },
      "source": [
        "What is the average income of people in `Waterloo`?"
      ]
    },
    {
      "cell_type": "code",
      "execution_count": null,
      "metadata": {
        "scrolled": false,
        "id": "fjv1UptNBQn5",
        "outputId": "906e15fb-c475-4aad-a207-11e7c81254cd",
        "colab": {
          "base_uri": "https://localhost:8080/"
        }
      },
      "outputs": [
        {
          "output_type": "stream",
          "name": "stdout",
          "text": [
            "max to follow\n",
            "min is next\n"
          ]
        },
        {
          "output_type": "execute_result",
          "data": {
            "text/plain": [
              "city\n",
              "Edmonton     50602\n",
              "Halifax      48425\n",
              "Montreal      -654\n",
              "Ottawa       33335\n",
              "Regina       64941\n",
              "Toronto      55538\n",
              "Vancouver    51131\n",
              "Waterloo     95202\n",
              "Name: income, dtype: int64"
            ]
          },
          "metadata": {},
          "execution_count": 51
        }
      ],
      "source": [
        "print (\"max to follow\")\n",
        "data.groupby(\"city\")[\"income\"].max()\n",
        "print (\"min is next\")\n",
        "data.groupby(\"city\")[\"income\"].min()"
      ]
    },
    {
      "cell_type": "markdown",
      "metadata": {
        "id": "F_fnp1rbBQn5"
      },
      "source": [
        "Try questions Q6-Q8 and type \"All done\" into the chat when you are finished\""
      ]
    },
    {
      "cell_type": "markdown",
      "metadata": {
        "id": "qRFipnWtBQn5"
      },
      "source": [
        "- **Q6** What is the average age of people in each `city`?"
      ]
    },
    {
      "cell_type": "code",
      "execution_count": null,
      "metadata": {
        "id": "YN5vFctcBQn5",
        "outputId": "6dab7ed0-8367-402e-c994-b6a5c39e9716",
        "colab": {
          "base_uri": "https://localhost:8080/"
        }
      },
      "outputs": [
        {
          "output_type": "stream",
          "name": "stdout",
          "text": [
            "first\n",
            "next\n"
          ]
        },
        {
          "output_type": "execute_result",
          "data": {
            "text/plain": [
              "city\n",
              "Edmonton     44.651237\n",
              "Halifax      45.197807\n",
              "Montreal     45.058761\n",
              "Ottawa       44.802709\n",
              "Regina       44.965171\n",
              "Toronto      44.922118\n",
              "Vancouver    44.994094\n",
              "Waterloo     44.992756\n",
              "Name: age, dtype: float64"
            ]
          },
          "metadata": {},
          "execution_count": 45
        }
      ],
      "source": [
        "data.groupby(\"city\")[\"age\"].mean()\n",
        "print (\"first\")\n",
        "data.groupby(\"city\")[\"age\"].max()\n",
        "print (\"next\")\n",
        "data.groupby(\"city\")[\"age\"].min()\n",
        "\n"
      ]
    },
    {
      "cell_type": "code",
      "execution_count": null,
      "metadata": {
        "scrolled": true,
        "id": "168vyLshBQn5",
        "outputId": "06e62d95-dc16-4d94-ccf3-42e2fa4d6e67",
        "colab": {
          "base_uri": "https://localhost:8080/"
        }
      },
      "outputs": [
        {
          "output_type": "execute_result",
          "data": {
            "text/plain": [
              "city\n",
              "Edmonton     44.651237\n",
              "Halifax      45.197807\n",
              "Montreal     45.058761\n",
              "Ottawa       44.802709\n",
              "Regina       44.965171\n",
              "Toronto      44.922118\n",
              "Vancouver    44.994094\n",
              "Waterloo     44.992756\n",
              "Name: age, dtype: float64"
            ]
          },
          "metadata": {},
          "execution_count": 53
        }
      ],
      "source": [
        "data.groupby(\"city\")[\"age\"].mean()"
      ]
    },
    {
      "cell_type": "markdown",
      "metadata": {
        "id": "CymJH-z2BQn5"
      },
      "source": [
        "- **Q7** What is the minimum and maximum age seen in the data"
      ]
    },
    {
      "cell_type": "code",
      "source": [
        "data.groupby(\"city\")[\"age\"].min()"
      ],
      "metadata": {
        "id": "oIDs_I85GXeA",
        "outputId": "871d3258-d064-45f9-99e8-2f9401add688",
        "colab": {
          "base_uri": "https://localhost:8080/"
        }
      },
      "execution_count": null,
      "outputs": [
        {
          "output_type": "execute_result",
          "data": {
            "text/plain": [
              "city\n",
              "Edmonton     25\n",
              "Halifax      25\n",
              "Montreal     25\n",
              "Ottawa       25\n",
              "Regina       25\n",
              "Toronto      25\n",
              "Vancouver    25\n",
              "Waterloo     25\n",
              "Name: age, dtype: int64"
            ]
          },
          "metadata": {},
          "execution_count": 55
        }
      ]
    },
    {
      "cell_type": "markdown",
      "metadata": {
        "id": "CLimfy2UBQn6"
      },
      "source": [
        "- **Q8** What is the maximum and minimum income seen in the data set?"
      ]
    },
    {
      "cell_type": "code",
      "execution_count": null,
      "metadata": {
        "id": "kQPm0EC7BQn6",
        "outputId": "eaed4275-7fdd-4f7b-f113-c7fa29b0a2e9",
        "colab": {
          "base_uri": "https://localhost:8080/"
        }
      },
      "outputs": [
        {
          "output_type": "stream",
          "name": "stdout",
          "text": [
            "city\n",
            "Edmonton     50602\n",
            "Halifax      48425\n",
            "Montreal      -654\n",
            "Ottawa       33335\n",
            "Regina       64941\n",
            "Toronto      55538\n",
            "Vancouver    51131\n",
            "Waterloo     95202\n",
            "Name: income, dtype: int64\n",
            "city\n",
            "Edmonton     132302\n",
            "Halifax      132348\n",
            "Montreal      91479\n",
            "Ottawa       107704\n",
            "Regina       140190\n",
            "Toronto      147170\n",
            "Vancouver    141249\n",
            "Waterloo     177157\n",
            "Name: income, dtype: int64\n"
          ]
        }
      ],
      "source": [
        "print (data.groupby(\"city\")[\"income\"].min())\n",
        "print (data.groupby(\"city\")[\"income\"].max())"
      ]
    },
    {
      "cell_type": "markdown",
      "metadata": {
        "id": "oxxxaaGeBQn6"
      },
      "source": [
        "# Sorting & Multi line commands"
      ]
    },
    {
      "cell_type": "markdown",
      "metadata": {
        "id": "v5T0fF8mBQn6"
      },
      "source": [
        "- We can apply sorting to our dataframe actions by using the funciton `.sort_values()`\n",
        "- We need to give what column we'd like to sort it with `by =`\n",
        "- We also need to tell it to display it in an increase way `ascending = False`"
      ]
    },
    {
      "cell_type": "markdown",
      "metadata": {
        "id": "V1xuoJasBQn6"
      },
      "source": [
        "What city has the most `ill` people? Here we do it in two steps"
      ]
    },
    {
      "cell_type": "code",
      "execution_count": null,
      "metadata": {
        "id": "P2DjL1r6BQn6",
        "outputId": "53483c7b-e1f6-4da0-f4a2-8e9a1f31e918",
        "colab": {
          "base_uri": "https://localhost:8080/",
          "height": 332
        }
      },
      "outputs": [
        {
          "output_type": "execute_result",
          "data": {
            "text/plain": [
              "           gender    age  income    ill\n",
              "city                                   \n",
              "Toronto     50307  50307   50307  50307\n",
              "Vancouver   32173  32173   32173  32173\n",
              "Montreal    19707  19707   19707  19707\n",
              "Waterloo    14219  14219   14219  14219\n",
              "Edmonton    12292  12292   12292  12292\n",
              "Halifax      8301   8301    8301   8301\n",
              "Ottawa       8120   8120    8120   8120\n",
              "Regina       4881   4881    4881   4881"
            ],
            "text/html": [
              "\n",
              "  <div id=\"df-fde985bd-6c9c-4d30-9c61-f6c5ecb1438a\">\n",
              "    <div class=\"colab-df-container\">\n",
              "      <div>\n",
              "<style scoped>\n",
              "    .dataframe tbody tr th:only-of-type {\n",
              "        vertical-align: middle;\n",
              "    }\n",
              "\n",
              "    .dataframe tbody tr th {\n",
              "        vertical-align: top;\n",
              "    }\n",
              "\n",
              "    .dataframe thead th {\n",
              "        text-align: right;\n",
              "    }\n",
              "</style>\n",
              "<table border=\"1\" class=\"dataframe\">\n",
              "  <thead>\n",
              "    <tr style=\"text-align: right;\">\n",
              "      <th></th>\n",
              "      <th>gender</th>\n",
              "      <th>age</th>\n",
              "      <th>income</th>\n",
              "      <th>ill</th>\n",
              "    </tr>\n",
              "    <tr>\n",
              "      <th>city</th>\n",
              "      <th></th>\n",
              "      <th></th>\n",
              "      <th></th>\n",
              "      <th></th>\n",
              "    </tr>\n",
              "  </thead>\n",
              "  <tbody>\n",
              "    <tr>\n",
              "      <th>Toronto</th>\n",
              "      <td>50307</td>\n",
              "      <td>50307</td>\n",
              "      <td>50307</td>\n",
              "      <td>50307</td>\n",
              "    </tr>\n",
              "    <tr>\n",
              "      <th>Vancouver</th>\n",
              "      <td>32173</td>\n",
              "      <td>32173</td>\n",
              "      <td>32173</td>\n",
              "      <td>32173</td>\n",
              "    </tr>\n",
              "    <tr>\n",
              "      <th>Montreal</th>\n",
              "      <td>19707</td>\n",
              "      <td>19707</td>\n",
              "      <td>19707</td>\n",
              "      <td>19707</td>\n",
              "    </tr>\n",
              "    <tr>\n",
              "      <th>Waterloo</th>\n",
              "      <td>14219</td>\n",
              "      <td>14219</td>\n",
              "      <td>14219</td>\n",
              "      <td>14219</td>\n",
              "    </tr>\n",
              "    <tr>\n",
              "      <th>Edmonton</th>\n",
              "      <td>12292</td>\n",
              "      <td>12292</td>\n",
              "      <td>12292</td>\n",
              "      <td>12292</td>\n",
              "    </tr>\n",
              "    <tr>\n",
              "      <th>Halifax</th>\n",
              "      <td>8301</td>\n",
              "      <td>8301</td>\n",
              "      <td>8301</td>\n",
              "      <td>8301</td>\n",
              "    </tr>\n",
              "    <tr>\n",
              "      <th>Ottawa</th>\n",
              "      <td>8120</td>\n",
              "      <td>8120</td>\n",
              "      <td>8120</td>\n",
              "      <td>8120</td>\n",
              "    </tr>\n",
              "    <tr>\n",
              "      <th>Regina</th>\n",
              "      <td>4881</td>\n",
              "      <td>4881</td>\n",
              "      <td>4881</td>\n",
              "      <td>4881</td>\n",
              "    </tr>\n",
              "  </tbody>\n",
              "</table>\n",
              "</div>\n",
              "      <button class=\"colab-df-convert\" onclick=\"convertToInteractive('df-fde985bd-6c9c-4d30-9c61-f6c5ecb1438a')\"\n",
              "              title=\"Convert this dataframe to an interactive table.\"\n",
              "              style=\"display:none;\">\n",
              "        \n",
              "  <svg xmlns=\"http://www.w3.org/2000/svg\" height=\"24px\"viewBox=\"0 0 24 24\"\n",
              "       width=\"24px\">\n",
              "    <path d=\"M0 0h24v24H0V0z\" fill=\"none\"/>\n",
              "    <path d=\"M18.56 5.44l.94 2.06.94-2.06 2.06-.94-2.06-.94-.94-2.06-.94 2.06-2.06.94zm-11 1L8.5 8.5l.94-2.06 2.06-.94-2.06-.94L8.5 2.5l-.94 2.06-2.06.94zm10 10l.94 2.06.94-2.06 2.06-.94-2.06-.94-.94-2.06-.94 2.06-2.06.94z\"/><path d=\"M17.41 7.96l-1.37-1.37c-.4-.4-.92-.59-1.43-.59-.52 0-1.04.2-1.43.59L10.3 9.45l-7.72 7.72c-.78.78-.78 2.05 0 2.83L4 21.41c.39.39.9.59 1.41.59.51 0 1.02-.2 1.41-.59l7.78-7.78 2.81-2.81c.8-.78.8-2.07 0-2.86zM5.41 20L4 18.59l7.72-7.72 1.47 1.35L5.41 20z\"/>\n",
              "  </svg>\n",
              "      </button>\n",
              "      \n",
              "  <style>\n",
              "    .colab-df-container {\n",
              "      display:flex;\n",
              "      flex-wrap:wrap;\n",
              "      gap: 12px;\n",
              "    }\n",
              "\n",
              "    .colab-df-convert {\n",
              "      background-color: #E8F0FE;\n",
              "      border: none;\n",
              "      border-radius: 50%;\n",
              "      cursor: pointer;\n",
              "      display: none;\n",
              "      fill: #1967D2;\n",
              "      height: 32px;\n",
              "      padding: 0 0 0 0;\n",
              "      width: 32px;\n",
              "    }\n",
              "\n",
              "    .colab-df-convert:hover {\n",
              "      background-color: #E2EBFA;\n",
              "      box-shadow: 0px 1px 2px rgba(60, 64, 67, 0.3), 0px 1px 3px 1px rgba(60, 64, 67, 0.15);\n",
              "      fill: #174EA6;\n",
              "    }\n",
              "\n",
              "    [theme=dark] .colab-df-convert {\n",
              "      background-color: #3B4455;\n",
              "      fill: #D2E3FC;\n",
              "    }\n",
              "\n",
              "    [theme=dark] .colab-df-convert:hover {\n",
              "      background-color: #434B5C;\n",
              "      box-shadow: 0px 1px 3px 1px rgba(0, 0, 0, 0.15);\n",
              "      filter: drop-shadow(0px 1px 2px rgba(0, 0, 0, 0.3));\n",
              "      fill: #FFFFFF;\n",
              "    }\n",
              "  </style>\n",
              "\n",
              "      <script>\n",
              "        const buttonEl =\n",
              "          document.querySelector('#df-fde985bd-6c9c-4d30-9c61-f6c5ecb1438a button.colab-df-convert');\n",
              "        buttonEl.style.display =\n",
              "          google.colab.kernel.accessAllowed ? 'block' : 'none';\n",
              "\n",
              "        async function convertToInteractive(key) {\n",
              "          const element = document.querySelector('#df-fde985bd-6c9c-4d30-9c61-f6c5ecb1438a');\n",
              "          const dataTable =\n",
              "            await google.colab.kernel.invokeFunction('convertToInteractive',\n",
              "                                                     [key], {});\n",
              "          if (!dataTable) return;\n",
              "\n",
              "          const docLinkHtml = 'Like what you see? Visit the ' +\n",
              "            '<a target=\"_blank\" href=https://colab.research.google.com/notebooks/data_table.ipynb>data table notebook</a>'\n",
              "            + ' to learn more about interactive tables.';\n",
              "          element.innerHTML = '';\n",
              "          dataTable['output_type'] = 'display_data';\n",
              "          await google.colab.output.renderOutput(dataTable, element);\n",
              "          const docLink = document.createElement('div');\n",
              "          docLink.innerHTML = docLinkHtml;\n",
              "          element.appendChild(docLink);\n",
              "        }\n",
              "      </script>\n",
              "    </div>\n",
              "  </div>\n",
              "  "
            ]
          },
          "metadata": {},
          "execution_count": 58
        }
      ],
      "source": [
        "by_city = data.groupby(\"city\").count()\n",
        "\n",
        "sorted_city = by_city.sort_values(by = \"ill\",ascending = False)\n",
        "\n",
        "sorted_city"
      ]
    },
    {
      "cell_type": "markdown",
      "metadata": {
        "id": "TfK5uzvvBQn6"
      },
      "source": [
        "We could also do it in one step:"
      ]
    },
    {
      "cell_type": "code",
      "execution_count": null,
      "metadata": {
        "scrolled": true,
        "id": "GiUEWbeKBQn7",
        "outputId": "4d50e067-e74f-4757-b7d2-ca94975618db",
        "colab": {
          "base_uri": "https://localhost:8080/",
          "height": 332
        }
      },
      "outputs": [
        {
          "output_type": "execute_result",
          "data": {
            "text/plain": [
              "           gender    age  income    ill\n",
              "city                                   \n",
              "Toronto     50307  50307   50307  50307\n",
              "Vancouver   32173  32173   32173  32173\n",
              "Montreal    19707  19707   19707  19707\n",
              "Waterloo    14219  14219   14219  14219\n",
              "Edmonton    12292  12292   12292  12292\n",
              "Halifax      8301   8301    8301   8301\n",
              "Ottawa       8120   8120    8120   8120\n",
              "Regina       4881   4881    4881   4881"
            ],
            "text/html": [
              "\n",
              "  <div id=\"df-173ada43-bda8-4217-b452-dbd6a0100887\">\n",
              "    <div class=\"colab-df-container\">\n",
              "      <div>\n",
              "<style scoped>\n",
              "    .dataframe tbody tr th:only-of-type {\n",
              "        vertical-align: middle;\n",
              "    }\n",
              "\n",
              "    .dataframe tbody tr th {\n",
              "        vertical-align: top;\n",
              "    }\n",
              "\n",
              "    .dataframe thead th {\n",
              "        text-align: right;\n",
              "    }\n",
              "</style>\n",
              "<table border=\"1\" class=\"dataframe\">\n",
              "  <thead>\n",
              "    <tr style=\"text-align: right;\">\n",
              "      <th></th>\n",
              "      <th>gender</th>\n",
              "      <th>age</th>\n",
              "      <th>income</th>\n",
              "      <th>ill</th>\n",
              "    </tr>\n",
              "    <tr>\n",
              "      <th>city</th>\n",
              "      <th></th>\n",
              "      <th></th>\n",
              "      <th></th>\n",
              "      <th></th>\n",
              "    </tr>\n",
              "  </thead>\n",
              "  <tbody>\n",
              "    <tr>\n",
              "      <th>Toronto</th>\n",
              "      <td>50307</td>\n",
              "      <td>50307</td>\n",
              "      <td>50307</td>\n",
              "      <td>50307</td>\n",
              "    </tr>\n",
              "    <tr>\n",
              "      <th>Vancouver</th>\n",
              "      <td>32173</td>\n",
              "      <td>32173</td>\n",
              "      <td>32173</td>\n",
              "      <td>32173</td>\n",
              "    </tr>\n",
              "    <tr>\n",
              "      <th>Montreal</th>\n",
              "      <td>19707</td>\n",
              "      <td>19707</td>\n",
              "      <td>19707</td>\n",
              "      <td>19707</td>\n",
              "    </tr>\n",
              "    <tr>\n",
              "      <th>Waterloo</th>\n",
              "      <td>14219</td>\n",
              "      <td>14219</td>\n",
              "      <td>14219</td>\n",
              "      <td>14219</td>\n",
              "    </tr>\n",
              "    <tr>\n",
              "      <th>Edmonton</th>\n",
              "      <td>12292</td>\n",
              "      <td>12292</td>\n",
              "      <td>12292</td>\n",
              "      <td>12292</td>\n",
              "    </tr>\n",
              "    <tr>\n",
              "      <th>Halifax</th>\n",
              "      <td>8301</td>\n",
              "      <td>8301</td>\n",
              "      <td>8301</td>\n",
              "      <td>8301</td>\n",
              "    </tr>\n",
              "    <tr>\n",
              "      <th>Ottawa</th>\n",
              "      <td>8120</td>\n",
              "      <td>8120</td>\n",
              "      <td>8120</td>\n",
              "      <td>8120</td>\n",
              "    </tr>\n",
              "    <tr>\n",
              "      <th>Regina</th>\n",
              "      <td>4881</td>\n",
              "      <td>4881</td>\n",
              "      <td>4881</td>\n",
              "      <td>4881</td>\n",
              "    </tr>\n",
              "  </tbody>\n",
              "</table>\n",
              "</div>\n",
              "      <button class=\"colab-df-convert\" onclick=\"convertToInteractive('df-173ada43-bda8-4217-b452-dbd6a0100887')\"\n",
              "              title=\"Convert this dataframe to an interactive table.\"\n",
              "              style=\"display:none;\">\n",
              "        \n",
              "  <svg xmlns=\"http://www.w3.org/2000/svg\" height=\"24px\"viewBox=\"0 0 24 24\"\n",
              "       width=\"24px\">\n",
              "    <path d=\"M0 0h24v24H0V0z\" fill=\"none\"/>\n",
              "    <path d=\"M18.56 5.44l.94 2.06.94-2.06 2.06-.94-2.06-.94-.94-2.06-.94 2.06-2.06.94zm-11 1L8.5 8.5l.94-2.06 2.06-.94-2.06-.94L8.5 2.5l-.94 2.06-2.06.94zm10 10l.94 2.06.94-2.06 2.06-.94-2.06-.94-.94-2.06-.94 2.06-2.06.94z\"/><path d=\"M17.41 7.96l-1.37-1.37c-.4-.4-.92-.59-1.43-.59-.52 0-1.04.2-1.43.59L10.3 9.45l-7.72 7.72c-.78.78-.78 2.05 0 2.83L4 21.41c.39.39.9.59 1.41.59.51 0 1.02-.2 1.41-.59l7.78-7.78 2.81-2.81c.8-.78.8-2.07 0-2.86zM5.41 20L4 18.59l7.72-7.72 1.47 1.35L5.41 20z\"/>\n",
              "  </svg>\n",
              "      </button>\n",
              "      \n",
              "  <style>\n",
              "    .colab-df-container {\n",
              "      display:flex;\n",
              "      flex-wrap:wrap;\n",
              "      gap: 12px;\n",
              "    }\n",
              "\n",
              "    .colab-df-convert {\n",
              "      background-color: #E8F0FE;\n",
              "      border: none;\n",
              "      border-radius: 50%;\n",
              "      cursor: pointer;\n",
              "      display: none;\n",
              "      fill: #1967D2;\n",
              "      height: 32px;\n",
              "      padding: 0 0 0 0;\n",
              "      width: 32px;\n",
              "    }\n",
              "\n",
              "    .colab-df-convert:hover {\n",
              "      background-color: #E2EBFA;\n",
              "      box-shadow: 0px 1px 2px rgba(60, 64, 67, 0.3), 0px 1px 3px 1px rgba(60, 64, 67, 0.15);\n",
              "      fill: #174EA6;\n",
              "    }\n",
              "\n",
              "    [theme=dark] .colab-df-convert {\n",
              "      background-color: #3B4455;\n",
              "      fill: #D2E3FC;\n",
              "    }\n",
              "\n",
              "    [theme=dark] .colab-df-convert:hover {\n",
              "      background-color: #434B5C;\n",
              "      box-shadow: 0px 1px 3px 1px rgba(0, 0, 0, 0.15);\n",
              "      filter: drop-shadow(0px 1px 2px rgba(0, 0, 0, 0.3));\n",
              "      fill: #FFFFFF;\n",
              "    }\n",
              "  </style>\n",
              "\n",
              "      <script>\n",
              "        const buttonEl =\n",
              "          document.querySelector('#df-173ada43-bda8-4217-b452-dbd6a0100887 button.colab-df-convert');\n",
              "        buttonEl.style.display =\n",
              "          google.colab.kernel.accessAllowed ? 'block' : 'none';\n",
              "\n",
              "        async function convertToInteractive(key) {\n",
              "          const element = document.querySelector('#df-173ada43-bda8-4217-b452-dbd6a0100887');\n",
              "          const dataTable =\n",
              "            await google.colab.kernel.invokeFunction('convertToInteractive',\n",
              "                                                     [key], {});\n",
              "          if (!dataTable) return;\n",
              "\n",
              "          const docLinkHtml = 'Like what you see? Visit the ' +\n",
              "            '<a target=\"_blank\" href=https://colab.research.google.com/notebooks/data_table.ipynb>data table notebook</a>'\n",
              "            + ' to learn more about interactive tables.';\n",
              "          element.innerHTML = '';\n",
              "          dataTable['output_type'] = 'display_data';\n",
              "          await google.colab.output.renderOutput(dataTable, element);\n",
              "          const docLink = document.createElement('div');\n",
              "          docLink.innerHTML = docLinkHtml;\n",
              "          element.appendChild(docLink);\n",
              "        }\n",
              "      </script>\n",
              "    </div>\n",
              "  </div>\n",
              "  "
            ]
          },
          "metadata": {},
          "execution_count": 59
        }
      ],
      "source": [
        "data.groupby(\"city\").count().sort_values(by = \"ill\",ascending = False)"
      ]
    },
    {
      "cell_type": "markdown",
      "metadata": {
        "id": "9QI10q3rBQn7"
      },
      "source": [
        "## Unique entries & values counts\n",
        "\n",
        "- Here we use `.unique()` to only give the first instances of the item. Results are returned as a list, which is useful for us later\n",
        "- This is useful for seeing how many values are in a categorical column"
      ]
    },
    {
      "cell_type": "code",
      "execution_count": null,
      "metadata": {
        "scrolled": true,
        "id": "T82rUpzjBQn7",
        "outputId": "4df0ffe7-b620-4c63-fcb5-c6aa910d726f",
        "colab": {
          "base_uri": "https://localhost:8080/"
        }
      },
      "outputs": [
        {
          "output_type": "execute_result",
          "data": {
            "text/plain": [
              "array(['Montreal', 'Toronto', 'Vancouver', 'Waterloo', 'Halifax',\n",
              "       'Ottawa', 'Regina', 'Edmonton'], dtype=object)"
            ]
          },
          "metadata": {},
          "execution_count": 64
        }
      ],
      "source": [
        "data[\"city\"].unique()"
      ]
    },
    {
      "cell_type": "markdown",
      "metadata": {
        "id": "glFtAhvDBQn8"
      },
      "source": [
        "What are unique values for the `age` field?"
      ]
    },
    {
      "cell_type": "code",
      "execution_count": null,
      "metadata": {
        "scrolled": true,
        "id": "QJKxdE3aBQn8",
        "outputId": "24ac1269-2cc7-4056-e97d-cd5b1d0367fd",
        "colab": {
          "base_uri": "https://localhost:8080/"
        }
      },
      "outputs": [
        {
          "output_type": "execute_result",
          "data": {
            "text/plain": [
              "array([41, 54, 42, 40, 46, 36, 32, 39, 51, 30, 48, 47, 61, 43, 27, 38, 35,\n",
              "       57, 33, 58, 64, 44, 34, 45, 55, 63, 59, 26, 56, 62, 31, 49, 53, 29,\n",
              "       28, 25, 37, 65, 60, 50, 52])"
            ]
          },
          "metadata": {},
          "execution_count": 65
        }
      ],
      "source": [
        "data[\"age\"].unique()"
      ]
    },
    {
      "cell_type": "markdown",
      "metadata": {
        "id": "iulPKUbzBQn8"
      },
      "source": [
        "- To get total number of unique values and frequency in the data we use `value_counts()` "
      ]
    },
    {
      "cell_type": "code",
      "execution_count": null,
      "metadata": {
        "scrolled": false,
        "id": "LB-LOaHlBQn8",
        "outputId": "000ac5bc-69ca-4e0b-a805-5ea9962d2679",
        "colab": {
          "base_uri": "https://localhost:8080/"
        }
      },
      "outputs": [
        {
          "output_type": "execute_result",
          "data": {
            "text/plain": [
              "Toronto      50307\n",
              "Vancouver    32173\n",
              "Montreal     19707\n",
              "Waterloo     14219\n",
              "Edmonton     12292\n",
              "Halifax       8301\n",
              "Ottawa        8120\n",
              "Regina        4881\n",
              "Name: city, dtype: int64"
            ]
          },
          "metadata": {},
          "execution_count": 66
        }
      ],
      "source": [
        "data[\"city\"].value_counts()"
      ]
    },
    {
      "cell_type": "markdown",
      "metadata": {
        "id": "JYOi72bRBQn9"
      },
      "source": [
        "- To get just the number of entries we use `nunique()`"
      ]
    },
    {
      "cell_type": "code",
      "execution_count": null,
      "metadata": {
        "id": "f1tRyrrWBQn9",
        "outputId": "5c934468-829d-45ab-80d8-05b705ae43ec",
        "colab": {
          "base_uri": "https://localhost:8080/"
        }
      },
      "outputs": [
        {
          "output_type": "execute_result",
          "data": {
            "text/plain": [
              "8"
            ]
          },
          "metadata": {},
          "execution_count": 67
        }
      ],
      "source": [
        "data[\"city\"].nunique()"
      ]
    },
    {
      "cell_type": "markdown",
      "metadata": {
        "id": "bP0aW359BQn9"
      },
      "source": [
        "## Selecting subsets of data\n",
        "\n",
        "- To make life easier we can create dataframes that just have the values we are interested in\n",
        "- This is a bit more complicated but follows this type of pattern:\n",
        "\n",
        "```\n",
        "\n",
        "dataframe[  dataframe[search criteria]  ]\n",
        "\n",
        "\n",
        "```\n",
        "\n",
        "- We are basically creating a subset of the dataframe by matching all entries that match `search criteria`\n",
        "- That search criteria can be anything that is a conditional\n",
        "- Doing this gives you a new dataframe"
      ]
    },
    {
      "cell_type": "markdown",
      "metadata": {
        "id": "QVqomzudBQn9"
      },
      "source": [
        "EG. A new dataframe of people with an income over $100000"
      ]
    },
    {
      "cell_type": "code",
      "execution_count": null,
      "metadata": {
        "scrolled": false,
        "id": "_-efluH0BQn9",
        "outputId": "c8bfa81b-0357-4c3a-d812-2b952a412076",
        "colab": {
          "base_uri": "https://localhost:8080/",
          "height": 424
        }
      },
      "outputs": [
        {
          "output_type": "execute_result",
          "data": {
            "text/plain": [
              "            city  gender  age  income ill\n",
              "19707    Toronto    Male   49  112226  No\n",
              "19708    Toronto    Male   42  110534  No\n",
              "19709    Toronto  Female   61  100665  No\n",
              "19713    Toronto    Male   38  120288  No\n",
              "19716    Toronto  Female   39  105036  No\n",
              "...          ...     ...  ...     ...  ..\n",
              "149977  Edmonton    Male   51  107123  No\n",
              "149978  Edmonton    Male   58  100949  No\n",
              "149994  Edmonton  Female   37  106097  No\n",
              "149997  Edmonton    Male   26  111885  No\n",
              "149998  Edmonton    Male   25  111878  No\n",
              "\n",
              "[51845 rows x 5 columns]"
            ],
            "text/html": [
              "\n",
              "  <div id=\"df-a8b1558c-b562-4e78-b3f2-1aae0ae4e55d\">\n",
              "    <div class=\"colab-df-container\">\n",
              "      <div>\n",
              "<style scoped>\n",
              "    .dataframe tbody tr th:only-of-type {\n",
              "        vertical-align: middle;\n",
              "    }\n",
              "\n",
              "    .dataframe tbody tr th {\n",
              "        vertical-align: top;\n",
              "    }\n",
              "\n",
              "    .dataframe thead th {\n",
              "        text-align: right;\n",
              "    }\n",
              "</style>\n",
              "<table border=\"1\" class=\"dataframe\">\n",
              "  <thead>\n",
              "    <tr style=\"text-align: right;\">\n",
              "      <th></th>\n",
              "      <th>city</th>\n",
              "      <th>gender</th>\n",
              "      <th>age</th>\n",
              "      <th>income</th>\n",
              "      <th>ill</th>\n",
              "    </tr>\n",
              "  </thead>\n",
              "  <tbody>\n",
              "    <tr>\n",
              "      <th>19707</th>\n",
              "      <td>Toronto</td>\n",
              "      <td>Male</td>\n",
              "      <td>49</td>\n",
              "      <td>112226</td>\n",
              "      <td>No</td>\n",
              "    </tr>\n",
              "    <tr>\n",
              "      <th>19708</th>\n",
              "      <td>Toronto</td>\n",
              "      <td>Male</td>\n",
              "      <td>42</td>\n",
              "      <td>110534</td>\n",
              "      <td>No</td>\n",
              "    </tr>\n",
              "    <tr>\n",
              "      <th>19709</th>\n",
              "      <td>Toronto</td>\n",
              "      <td>Female</td>\n",
              "      <td>61</td>\n",
              "      <td>100665</td>\n",
              "      <td>No</td>\n",
              "    </tr>\n",
              "    <tr>\n",
              "      <th>19713</th>\n",
              "      <td>Toronto</td>\n",
              "      <td>Male</td>\n",
              "      <td>38</td>\n",
              "      <td>120288</td>\n",
              "      <td>No</td>\n",
              "    </tr>\n",
              "    <tr>\n",
              "      <th>19716</th>\n",
              "      <td>Toronto</td>\n",
              "      <td>Female</td>\n",
              "      <td>39</td>\n",
              "      <td>105036</td>\n",
              "      <td>No</td>\n",
              "    </tr>\n",
              "    <tr>\n",
              "      <th>...</th>\n",
              "      <td>...</td>\n",
              "      <td>...</td>\n",
              "      <td>...</td>\n",
              "      <td>...</td>\n",
              "      <td>...</td>\n",
              "    </tr>\n",
              "    <tr>\n",
              "      <th>149977</th>\n",
              "      <td>Edmonton</td>\n",
              "      <td>Male</td>\n",
              "      <td>51</td>\n",
              "      <td>107123</td>\n",
              "      <td>No</td>\n",
              "    </tr>\n",
              "    <tr>\n",
              "      <th>149978</th>\n",
              "      <td>Edmonton</td>\n",
              "      <td>Male</td>\n",
              "      <td>58</td>\n",
              "      <td>100949</td>\n",
              "      <td>No</td>\n",
              "    </tr>\n",
              "    <tr>\n",
              "      <th>149994</th>\n",
              "      <td>Edmonton</td>\n",
              "      <td>Female</td>\n",
              "      <td>37</td>\n",
              "      <td>106097</td>\n",
              "      <td>No</td>\n",
              "    </tr>\n",
              "    <tr>\n",
              "      <th>149997</th>\n",
              "      <td>Edmonton</td>\n",
              "      <td>Male</td>\n",
              "      <td>26</td>\n",
              "      <td>111885</td>\n",
              "      <td>No</td>\n",
              "    </tr>\n",
              "    <tr>\n",
              "      <th>149998</th>\n",
              "      <td>Edmonton</td>\n",
              "      <td>Male</td>\n",
              "      <td>25</td>\n",
              "      <td>111878</td>\n",
              "      <td>No</td>\n",
              "    </tr>\n",
              "  </tbody>\n",
              "</table>\n",
              "<p>51845 rows × 5 columns</p>\n",
              "</div>\n",
              "      <button class=\"colab-df-convert\" onclick=\"convertToInteractive('df-a8b1558c-b562-4e78-b3f2-1aae0ae4e55d')\"\n",
              "              title=\"Convert this dataframe to an interactive table.\"\n",
              "              style=\"display:none;\">\n",
              "        \n",
              "  <svg xmlns=\"http://www.w3.org/2000/svg\" height=\"24px\"viewBox=\"0 0 24 24\"\n",
              "       width=\"24px\">\n",
              "    <path d=\"M0 0h24v24H0V0z\" fill=\"none\"/>\n",
              "    <path d=\"M18.56 5.44l.94 2.06.94-2.06 2.06-.94-2.06-.94-.94-2.06-.94 2.06-2.06.94zm-11 1L8.5 8.5l.94-2.06 2.06-.94-2.06-.94L8.5 2.5l-.94 2.06-2.06.94zm10 10l.94 2.06.94-2.06 2.06-.94-2.06-.94-.94-2.06-.94 2.06-2.06.94z\"/><path d=\"M17.41 7.96l-1.37-1.37c-.4-.4-.92-.59-1.43-.59-.52 0-1.04.2-1.43.59L10.3 9.45l-7.72 7.72c-.78.78-.78 2.05 0 2.83L4 21.41c.39.39.9.59 1.41.59.51 0 1.02-.2 1.41-.59l7.78-7.78 2.81-2.81c.8-.78.8-2.07 0-2.86zM5.41 20L4 18.59l7.72-7.72 1.47 1.35L5.41 20z\"/>\n",
              "  </svg>\n",
              "      </button>\n",
              "      \n",
              "  <style>\n",
              "    .colab-df-container {\n",
              "      display:flex;\n",
              "      flex-wrap:wrap;\n",
              "      gap: 12px;\n",
              "    }\n",
              "\n",
              "    .colab-df-convert {\n",
              "      background-color: #E8F0FE;\n",
              "      border: none;\n",
              "      border-radius: 50%;\n",
              "      cursor: pointer;\n",
              "      display: none;\n",
              "      fill: #1967D2;\n",
              "      height: 32px;\n",
              "      padding: 0 0 0 0;\n",
              "      width: 32px;\n",
              "    }\n",
              "\n",
              "    .colab-df-convert:hover {\n",
              "      background-color: #E2EBFA;\n",
              "      box-shadow: 0px 1px 2px rgba(60, 64, 67, 0.3), 0px 1px 3px 1px rgba(60, 64, 67, 0.15);\n",
              "      fill: #174EA6;\n",
              "    }\n",
              "\n",
              "    [theme=dark] .colab-df-convert {\n",
              "      background-color: #3B4455;\n",
              "      fill: #D2E3FC;\n",
              "    }\n",
              "\n",
              "    [theme=dark] .colab-df-convert:hover {\n",
              "      background-color: #434B5C;\n",
              "      box-shadow: 0px 1px 3px 1px rgba(0, 0, 0, 0.15);\n",
              "      filter: drop-shadow(0px 1px 2px rgba(0, 0, 0, 0.3));\n",
              "      fill: #FFFFFF;\n",
              "    }\n",
              "  </style>\n",
              "\n",
              "      <script>\n",
              "        const buttonEl =\n",
              "          document.querySelector('#df-a8b1558c-b562-4e78-b3f2-1aae0ae4e55d button.colab-df-convert');\n",
              "        buttonEl.style.display =\n",
              "          google.colab.kernel.accessAllowed ? 'block' : 'none';\n",
              "\n",
              "        async function convertToInteractive(key) {\n",
              "          const element = document.querySelector('#df-a8b1558c-b562-4e78-b3f2-1aae0ae4e55d');\n",
              "          const dataTable =\n",
              "            await google.colab.kernel.invokeFunction('convertToInteractive',\n",
              "                                                     [key], {});\n",
              "          if (!dataTable) return;\n",
              "\n",
              "          const docLinkHtml = 'Like what you see? Visit the ' +\n",
              "            '<a target=\"_blank\" href=https://colab.research.google.com/notebooks/data_table.ipynb>data table notebook</a>'\n",
              "            + ' to learn more about interactive tables.';\n",
              "          element.innerHTML = '';\n",
              "          dataTable['output_type'] = 'display_data';\n",
              "          await google.colab.output.renderOutput(dataTable, element);\n",
              "          const docLink = document.createElement('div');\n",
              "          docLink.innerHTML = docLinkHtml;\n",
              "          element.appendChild(docLink);\n",
              "        }\n",
              "      </script>\n",
              "    </div>\n",
              "  </div>\n",
              "  "
            ]
          },
          "metadata": {},
          "execution_count": 68
        }
      ],
      "source": [
        "over_100k = data[data[\"income\"] > 100000]\n",
        "over_100k"
      ]
    },
    {
      "cell_type": "markdown",
      "metadata": {
        "id": "KerU_p17BQn-"
      },
      "source": [
        "EG. If we want the count of people over 100k, we apply the `.count()` function to what we selected"
      ]
    },
    {
      "cell_type": "code",
      "execution_count": null,
      "metadata": {
        "scrolled": false,
        "id": "KEmHpwKnBQn-",
        "outputId": "2280818b-27b9-4827-c5df-0c2ac4a1848d",
        "colab": {
          "base_uri": "https://localhost:8080/"
        }
      },
      "outputs": [
        {
          "output_type": "execute_result",
          "data": {
            "text/plain": [
              "city      51845\n",
              "gender    51845\n",
              "age       51845\n",
              "income    51845\n",
              "ill       51845\n",
              "dtype: int64"
            ]
          },
          "metadata": {},
          "execution_count": 69
        }
      ],
      "source": [
        "over_100k.count()"
      ]
    },
    {
      "cell_type": "markdown",
      "metadata": {
        "id": "ckNVYLGqBQn-"
      },
      "source": [
        "This can be done in 1 line as well"
      ]
    },
    {
      "cell_type": "code",
      "execution_count": null,
      "metadata": {
        "id": "-BJ1VGeUBQn_",
        "outputId": "f6d6abc6-f1d6-417c-be9d-067895cfd237",
        "colab": {
          "base_uri": "https://localhost:8080/"
        }
      },
      "outputs": [
        {
          "output_type": "execute_result",
          "data": {
            "text/plain": [
              "city      51845\n",
              "gender    51845\n",
              "age       51845\n",
              "income    51845\n",
              "ill       51845\n",
              "dtype: int64"
            ]
          },
          "metadata": {},
          "execution_count": 70
        }
      ],
      "source": [
        "data[data[\"income\"] > 100000].count()"
      ]
    },
    {
      "cell_type": "markdown",
      "metadata": {
        "id": "Ddg4UaV5BQn_"
      },
      "source": [
        "Try Q9-Q10 below and type \"I got it\" into the chat when you are done"
      ]
    },
    {
      "cell_type": "markdown",
      "metadata": {
        "id": "CNzYE-9LBQoA"
      },
      "source": [
        "- **Q9** Can you make a new dataframe that just has people from `Waterloo` in it. Display the first 5 entries."
      ]
    },
    {
      "cell_type": "code",
      "execution_count": null,
      "metadata": {
        "id": "WFuutbTyBQoA",
        "outputId": "e11c424c-a586-44ee-dfc3-41c3ff14062a",
        "colab": {
          "base_uri": "https://localhost:8080/",
          "height": 206
        }
      },
      "outputs": [
        {
          "output_type": "execute_result",
          "data": {
            "text/plain": [
              "            city  gender  age  income ill\n",
              "102187  Waterloo    Male   31  150367  No\n",
              "102188  Waterloo  Female   36  130426  No\n",
              "102189  Waterloo  Female   42  130216  No\n",
              "102190  Waterloo    Male   62  143263  No\n",
              "102191  Waterloo  Female   48  152273  No"
            ],
            "text/html": [
              "\n",
              "  <div id=\"df-a14340f2-55c3-44af-97b2-b28c59f69c24\">\n",
              "    <div class=\"colab-df-container\">\n",
              "      <div>\n",
              "<style scoped>\n",
              "    .dataframe tbody tr th:only-of-type {\n",
              "        vertical-align: middle;\n",
              "    }\n",
              "\n",
              "    .dataframe tbody tr th {\n",
              "        vertical-align: top;\n",
              "    }\n",
              "\n",
              "    .dataframe thead th {\n",
              "        text-align: right;\n",
              "    }\n",
              "</style>\n",
              "<table border=\"1\" class=\"dataframe\">\n",
              "  <thead>\n",
              "    <tr style=\"text-align: right;\">\n",
              "      <th></th>\n",
              "      <th>city</th>\n",
              "      <th>gender</th>\n",
              "      <th>age</th>\n",
              "      <th>income</th>\n",
              "      <th>ill</th>\n",
              "    </tr>\n",
              "  </thead>\n",
              "  <tbody>\n",
              "    <tr>\n",
              "      <th>102187</th>\n",
              "      <td>Waterloo</td>\n",
              "      <td>Male</td>\n",
              "      <td>31</td>\n",
              "      <td>150367</td>\n",
              "      <td>No</td>\n",
              "    </tr>\n",
              "    <tr>\n",
              "      <th>102188</th>\n",
              "      <td>Waterloo</td>\n",
              "      <td>Female</td>\n",
              "      <td>36</td>\n",
              "      <td>130426</td>\n",
              "      <td>No</td>\n",
              "    </tr>\n",
              "    <tr>\n",
              "      <th>102189</th>\n",
              "      <td>Waterloo</td>\n",
              "      <td>Female</td>\n",
              "      <td>42</td>\n",
              "      <td>130216</td>\n",
              "      <td>No</td>\n",
              "    </tr>\n",
              "    <tr>\n",
              "      <th>102190</th>\n",
              "      <td>Waterloo</td>\n",
              "      <td>Male</td>\n",
              "      <td>62</td>\n",
              "      <td>143263</td>\n",
              "      <td>No</td>\n",
              "    </tr>\n",
              "    <tr>\n",
              "      <th>102191</th>\n",
              "      <td>Waterloo</td>\n",
              "      <td>Female</td>\n",
              "      <td>48</td>\n",
              "      <td>152273</td>\n",
              "      <td>No</td>\n",
              "    </tr>\n",
              "  </tbody>\n",
              "</table>\n",
              "</div>\n",
              "      <button class=\"colab-df-convert\" onclick=\"convertToInteractive('df-a14340f2-55c3-44af-97b2-b28c59f69c24')\"\n",
              "              title=\"Convert this dataframe to an interactive table.\"\n",
              "              style=\"display:none;\">\n",
              "        \n",
              "  <svg xmlns=\"http://www.w3.org/2000/svg\" height=\"24px\"viewBox=\"0 0 24 24\"\n",
              "       width=\"24px\">\n",
              "    <path d=\"M0 0h24v24H0V0z\" fill=\"none\"/>\n",
              "    <path d=\"M18.56 5.44l.94 2.06.94-2.06 2.06-.94-2.06-.94-.94-2.06-.94 2.06-2.06.94zm-11 1L8.5 8.5l.94-2.06 2.06-.94-2.06-.94L8.5 2.5l-.94 2.06-2.06.94zm10 10l.94 2.06.94-2.06 2.06-.94-2.06-.94-.94-2.06-.94 2.06-2.06.94z\"/><path d=\"M17.41 7.96l-1.37-1.37c-.4-.4-.92-.59-1.43-.59-.52 0-1.04.2-1.43.59L10.3 9.45l-7.72 7.72c-.78.78-.78 2.05 0 2.83L4 21.41c.39.39.9.59 1.41.59.51 0 1.02-.2 1.41-.59l7.78-7.78 2.81-2.81c.8-.78.8-2.07 0-2.86zM5.41 20L4 18.59l7.72-7.72 1.47 1.35L5.41 20z\"/>\n",
              "  </svg>\n",
              "      </button>\n",
              "      \n",
              "  <style>\n",
              "    .colab-df-container {\n",
              "      display:flex;\n",
              "      flex-wrap:wrap;\n",
              "      gap: 12px;\n",
              "    }\n",
              "\n",
              "    .colab-df-convert {\n",
              "      background-color: #E8F0FE;\n",
              "      border: none;\n",
              "      border-radius: 50%;\n",
              "      cursor: pointer;\n",
              "      display: none;\n",
              "      fill: #1967D2;\n",
              "      height: 32px;\n",
              "      padding: 0 0 0 0;\n",
              "      width: 32px;\n",
              "    }\n",
              "\n",
              "    .colab-df-convert:hover {\n",
              "      background-color: #E2EBFA;\n",
              "      box-shadow: 0px 1px 2px rgba(60, 64, 67, 0.3), 0px 1px 3px 1px rgba(60, 64, 67, 0.15);\n",
              "      fill: #174EA6;\n",
              "    }\n",
              "\n",
              "    [theme=dark] .colab-df-convert {\n",
              "      background-color: #3B4455;\n",
              "      fill: #D2E3FC;\n",
              "    }\n",
              "\n",
              "    [theme=dark] .colab-df-convert:hover {\n",
              "      background-color: #434B5C;\n",
              "      box-shadow: 0px 1px 3px 1px rgba(0, 0, 0, 0.15);\n",
              "      filter: drop-shadow(0px 1px 2px rgba(0, 0, 0, 0.3));\n",
              "      fill: #FFFFFF;\n",
              "    }\n",
              "  </style>\n",
              "\n",
              "      <script>\n",
              "        const buttonEl =\n",
              "          document.querySelector('#df-a14340f2-55c3-44af-97b2-b28c59f69c24 button.colab-df-convert');\n",
              "        buttonEl.style.display =\n",
              "          google.colab.kernel.accessAllowed ? 'block' : 'none';\n",
              "\n",
              "        async function convertToInteractive(key) {\n",
              "          const element = document.querySelector('#df-a14340f2-55c3-44af-97b2-b28c59f69c24');\n",
              "          const dataTable =\n",
              "            await google.colab.kernel.invokeFunction('convertToInteractive',\n",
              "                                                     [key], {});\n",
              "          if (!dataTable) return;\n",
              "\n",
              "          const docLinkHtml = 'Like what you see? Visit the ' +\n",
              "            '<a target=\"_blank\" href=https://colab.research.google.com/notebooks/data_table.ipynb>data table notebook</a>'\n",
              "            + ' to learn more about interactive tables.';\n",
              "          element.innerHTML = '';\n",
              "          dataTable['output_type'] = 'display_data';\n",
              "          await google.colab.output.renderOutput(dataTable, element);\n",
              "          const docLink = document.createElement('div');\n",
              "          docLink.innerHTML = docLinkHtml;\n",
              "          element.appendChild(docLink);\n",
              "        }\n",
              "      </script>\n",
              "    </div>\n",
              "  </div>\n",
              "  "
            ]
          },
          "metadata": {},
          "execution_count": 75
        }
      ],
      "source": [
        "waterloo_people = data[data['city'] == \"Waterloo\"]\n",
        "waterloo_people.head(5)"
      ]
    },
    {
      "cell_type": "markdown",
      "metadata": {
        "id": "n5zbyUWYBQoA"
      },
      "source": [
        "- **Q10** Can you 'describe' the newly created dataframe, to get some basic information on the columns in the dataframe?"
      ]
    },
    {
      "cell_type": "code",
      "execution_count": null,
      "metadata": {
        "id": "jkSeq-BqBQoA",
        "outputId": "1d5d18b5-1918-4145-9de2-b5dc9c28dc45",
        "colab": {
          "base_uri": "https://localhost:8080/",
          "height": 300
        }
      },
      "outputs": [
        {
          "output_type": "execute_result",
          "data": {
            "text/plain": [
              "                age         income\n",
              "count  14219.000000   14219.000000\n",
              "mean      44.992756  135078.415782\n",
              "std       11.562080   11227.302304\n",
              "min       25.000000   95202.000000\n",
              "25%       35.000000  127482.000000\n",
              "50%       45.000000  135220.000000\n",
              "75%       55.000000  142738.500000\n",
              "max       65.000000  177157.000000"
            ],
            "text/html": [
              "\n",
              "  <div id=\"df-0f973bc0-2ff5-469d-970f-e963b765cd69\">\n",
              "    <div class=\"colab-df-container\">\n",
              "      <div>\n",
              "<style scoped>\n",
              "    .dataframe tbody tr th:only-of-type {\n",
              "        vertical-align: middle;\n",
              "    }\n",
              "\n",
              "    .dataframe tbody tr th {\n",
              "        vertical-align: top;\n",
              "    }\n",
              "\n",
              "    .dataframe thead th {\n",
              "        text-align: right;\n",
              "    }\n",
              "</style>\n",
              "<table border=\"1\" class=\"dataframe\">\n",
              "  <thead>\n",
              "    <tr style=\"text-align: right;\">\n",
              "      <th></th>\n",
              "      <th>age</th>\n",
              "      <th>income</th>\n",
              "    </tr>\n",
              "  </thead>\n",
              "  <tbody>\n",
              "    <tr>\n",
              "      <th>count</th>\n",
              "      <td>14219.000000</td>\n",
              "      <td>14219.000000</td>\n",
              "    </tr>\n",
              "    <tr>\n",
              "      <th>mean</th>\n",
              "      <td>44.992756</td>\n",
              "      <td>135078.415782</td>\n",
              "    </tr>\n",
              "    <tr>\n",
              "      <th>std</th>\n",
              "      <td>11.562080</td>\n",
              "      <td>11227.302304</td>\n",
              "    </tr>\n",
              "    <tr>\n",
              "      <th>min</th>\n",
              "      <td>25.000000</td>\n",
              "      <td>95202.000000</td>\n",
              "    </tr>\n",
              "    <tr>\n",
              "      <th>25%</th>\n",
              "      <td>35.000000</td>\n",
              "      <td>127482.000000</td>\n",
              "    </tr>\n",
              "    <tr>\n",
              "      <th>50%</th>\n",
              "      <td>45.000000</td>\n",
              "      <td>135220.000000</td>\n",
              "    </tr>\n",
              "    <tr>\n",
              "      <th>75%</th>\n",
              "      <td>55.000000</td>\n",
              "      <td>142738.500000</td>\n",
              "    </tr>\n",
              "    <tr>\n",
              "      <th>max</th>\n",
              "      <td>65.000000</td>\n",
              "      <td>177157.000000</td>\n",
              "    </tr>\n",
              "  </tbody>\n",
              "</table>\n",
              "</div>\n",
              "      <button class=\"colab-df-convert\" onclick=\"convertToInteractive('df-0f973bc0-2ff5-469d-970f-e963b765cd69')\"\n",
              "              title=\"Convert this dataframe to an interactive table.\"\n",
              "              style=\"display:none;\">\n",
              "        \n",
              "  <svg xmlns=\"http://www.w3.org/2000/svg\" height=\"24px\"viewBox=\"0 0 24 24\"\n",
              "       width=\"24px\">\n",
              "    <path d=\"M0 0h24v24H0V0z\" fill=\"none\"/>\n",
              "    <path d=\"M18.56 5.44l.94 2.06.94-2.06 2.06-.94-2.06-.94-.94-2.06-.94 2.06-2.06.94zm-11 1L8.5 8.5l.94-2.06 2.06-.94-2.06-.94L8.5 2.5l-.94 2.06-2.06.94zm10 10l.94 2.06.94-2.06 2.06-.94-2.06-.94-.94-2.06-.94 2.06-2.06.94z\"/><path d=\"M17.41 7.96l-1.37-1.37c-.4-.4-.92-.59-1.43-.59-.52 0-1.04.2-1.43.59L10.3 9.45l-7.72 7.72c-.78.78-.78 2.05 0 2.83L4 21.41c.39.39.9.59 1.41.59.51 0 1.02-.2 1.41-.59l7.78-7.78 2.81-2.81c.8-.78.8-2.07 0-2.86zM5.41 20L4 18.59l7.72-7.72 1.47 1.35L5.41 20z\"/>\n",
              "  </svg>\n",
              "      </button>\n",
              "      \n",
              "  <style>\n",
              "    .colab-df-container {\n",
              "      display:flex;\n",
              "      flex-wrap:wrap;\n",
              "      gap: 12px;\n",
              "    }\n",
              "\n",
              "    .colab-df-convert {\n",
              "      background-color: #E8F0FE;\n",
              "      border: none;\n",
              "      border-radius: 50%;\n",
              "      cursor: pointer;\n",
              "      display: none;\n",
              "      fill: #1967D2;\n",
              "      height: 32px;\n",
              "      padding: 0 0 0 0;\n",
              "      width: 32px;\n",
              "    }\n",
              "\n",
              "    .colab-df-convert:hover {\n",
              "      background-color: #E2EBFA;\n",
              "      box-shadow: 0px 1px 2px rgba(60, 64, 67, 0.3), 0px 1px 3px 1px rgba(60, 64, 67, 0.15);\n",
              "      fill: #174EA6;\n",
              "    }\n",
              "\n",
              "    [theme=dark] .colab-df-convert {\n",
              "      background-color: #3B4455;\n",
              "      fill: #D2E3FC;\n",
              "    }\n",
              "\n",
              "    [theme=dark] .colab-df-convert:hover {\n",
              "      background-color: #434B5C;\n",
              "      box-shadow: 0px 1px 3px 1px rgba(0, 0, 0, 0.15);\n",
              "      filter: drop-shadow(0px 1px 2px rgba(0, 0, 0, 0.3));\n",
              "      fill: #FFFFFF;\n",
              "    }\n",
              "  </style>\n",
              "\n",
              "      <script>\n",
              "        const buttonEl =\n",
              "          document.querySelector('#df-0f973bc0-2ff5-469d-970f-e963b765cd69 button.colab-df-convert');\n",
              "        buttonEl.style.display =\n",
              "          google.colab.kernel.accessAllowed ? 'block' : 'none';\n",
              "\n",
              "        async function convertToInteractive(key) {\n",
              "          const element = document.querySelector('#df-0f973bc0-2ff5-469d-970f-e963b765cd69');\n",
              "          const dataTable =\n",
              "            await google.colab.kernel.invokeFunction('convertToInteractive',\n",
              "                                                     [key], {});\n",
              "          if (!dataTable) return;\n",
              "\n",
              "          const docLinkHtml = 'Like what you see? Visit the ' +\n",
              "            '<a target=\"_blank\" href=https://colab.research.google.com/notebooks/data_table.ipynb>data table notebook</a>'\n",
              "            + ' to learn more about interactive tables.';\n",
              "          element.innerHTML = '';\n",
              "          dataTable['output_type'] = 'display_data';\n",
              "          await google.colab.output.renderOutput(dataTable, element);\n",
              "          const docLink = document.createElement('div');\n",
              "          docLink.innerHTML = docLinkHtml;\n",
              "          element.appendChild(docLink);\n",
              "        }\n",
              "      </script>\n",
              "    </div>\n",
              "  </div>\n",
              "  "
            ]
          },
          "metadata": {},
          "execution_count": 76
        }
      ],
      "source": [
        "waterloo_people.describe()"
      ]
    },
    {
      "cell_type": "markdown",
      "metadata": {
        "id": "XXL8cNweBQoB"
      },
      "source": [
        "# Some questions now"
      ]
    },
    {
      "cell_type": "markdown",
      "metadata": {
        "id": "m8yKooc2BQoB"
      },
      "source": [
        "Let's first make a dataframe of all of the ill people"
      ]
    },
    {
      "cell_type": "code",
      "execution_count": null,
      "metadata": {
        "scrolled": true,
        "id": "NHJVTaDVBQoB",
        "outputId": "0a36326a-9568-44ba-e349-8d64eed77dc5",
        "colab": {
          "base_uri": "https://localhost:8080/",
          "height": 424
        }
      },
      "outputs": [
        {
          "output_type": "execute_result",
          "data": {
            "text/plain": [
              "            city  gender  age  income  ill\n",
              "10      Montreal  Female   48   41524  Yes\n",
              "17      Montreal    Male   38   46373  Yes\n",
              "23      Montreal  Female   27   34292  Yes\n",
              "29      Montreal    Male   45   47421  Yes\n",
              "38      Montreal  Female   61   39881  Yes\n",
              "...          ...     ...  ...     ...  ...\n",
              "149847  Edmonton  Female   52   64716  Yes\n",
              "149886  Edmonton    Male   64  113221  Yes\n",
              "149936  Edmonton    Male   35  102931  Yes\n",
              "149949  Edmonton    Male   28   93950  Yes\n",
              "149980  Edmonton  Female   53   89384  Yes\n",
              "\n",
              "[12139 rows x 5 columns]"
            ],
            "text/html": [
              "\n",
              "  <div id=\"df-35646386-5bf3-40c3-8255-2875f4627564\">\n",
              "    <div class=\"colab-df-container\">\n",
              "      <div>\n",
              "<style scoped>\n",
              "    .dataframe tbody tr th:only-of-type {\n",
              "        vertical-align: middle;\n",
              "    }\n",
              "\n",
              "    .dataframe tbody tr th {\n",
              "        vertical-align: top;\n",
              "    }\n",
              "\n",
              "    .dataframe thead th {\n",
              "        text-align: right;\n",
              "    }\n",
              "</style>\n",
              "<table border=\"1\" class=\"dataframe\">\n",
              "  <thead>\n",
              "    <tr style=\"text-align: right;\">\n",
              "      <th></th>\n",
              "      <th>city</th>\n",
              "      <th>gender</th>\n",
              "      <th>age</th>\n",
              "      <th>income</th>\n",
              "      <th>ill</th>\n",
              "    </tr>\n",
              "  </thead>\n",
              "  <tbody>\n",
              "    <tr>\n",
              "      <th>10</th>\n",
              "      <td>Montreal</td>\n",
              "      <td>Female</td>\n",
              "      <td>48</td>\n",
              "      <td>41524</td>\n",
              "      <td>Yes</td>\n",
              "    </tr>\n",
              "    <tr>\n",
              "      <th>17</th>\n",
              "      <td>Montreal</td>\n",
              "      <td>Male</td>\n",
              "      <td>38</td>\n",
              "      <td>46373</td>\n",
              "      <td>Yes</td>\n",
              "    </tr>\n",
              "    <tr>\n",
              "      <th>23</th>\n",
              "      <td>Montreal</td>\n",
              "      <td>Female</td>\n",
              "      <td>27</td>\n",
              "      <td>34292</td>\n",
              "      <td>Yes</td>\n",
              "    </tr>\n",
              "    <tr>\n",
              "      <th>29</th>\n",
              "      <td>Montreal</td>\n",
              "      <td>Male</td>\n",
              "      <td>45</td>\n",
              "      <td>47421</td>\n",
              "      <td>Yes</td>\n",
              "    </tr>\n",
              "    <tr>\n",
              "      <th>38</th>\n",
              "      <td>Montreal</td>\n",
              "      <td>Female</td>\n",
              "      <td>61</td>\n",
              "      <td>39881</td>\n",
              "      <td>Yes</td>\n",
              "    </tr>\n",
              "    <tr>\n",
              "      <th>...</th>\n",
              "      <td>...</td>\n",
              "      <td>...</td>\n",
              "      <td>...</td>\n",
              "      <td>...</td>\n",
              "      <td>...</td>\n",
              "    </tr>\n",
              "    <tr>\n",
              "      <th>149847</th>\n",
              "      <td>Edmonton</td>\n",
              "      <td>Female</td>\n",
              "      <td>52</td>\n",
              "      <td>64716</td>\n",
              "      <td>Yes</td>\n",
              "    </tr>\n",
              "    <tr>\n",
              "      <th>149886</th>\n",
              "      <td>Edmonton</td>\n",
              "      <td>Male</td>\n",
              "      <td>64</td>\n",
              "      <td>113221</td>\n",
              "      <td>Yes</td>\n",
              "    </tr>\n",
              "    <tr>\n",
              "      <th>149936</th>\n",
              "      <td>Edmonton</td>\n",
              "      <td>Male</td>\n",
              "      <td>35</td>\n",
              "      <td>102931</td>\n",
              "      <td>Yes</td>\n",
              "    </tr>\n",
              "    <tr>\n",
              "      <th>149949</th>\n",
              "      <td>Edmonton</td>\n",
              "      <td>Male</td>\n",
              "      <td>28</td>\n",
              "      <td>93950</td>\n",
              "      <td>Yes</td>\n",
              "    </tr>\n",
              "    <tr>\n",
              "      <th>149980</th>\n",
              "      <td>Edmonton</td>\n",
              "      <td>Female</td>\n",
              "      <td>53</td>\n",
              "      <td>89384</td>\n",
              "      <td>Yes</td>\n",
              "    </tr>\n",
              "  </tbody>\n",
              "</table>\n",
              "<p>12139 rows × 5 columns</p>\n",
              "</div>\n",
              "      <button class=\"colab-df-convert\" onclick=\"convertToInteractive('df-35646386-5bf3-40c3-8255-2875f4627564')\"\n",
              "              title=\"Convert this dataframe to an interactive table.\"\n",
              "              style=\"display:none;\">\n",
              "        \n",
              "  <svg xmlns=\"http://www.w3.org/2000/svg\" height=\"24px\"viewBox=\"0 0 24 24\"\n",
              "       width=\"24px\">\n",
              "    <path d=\"M0 0h24v24H0V0z\" fill=\"none\"/>\n",
              "    <path d=\"M18.56 5.44l.94 2.06.94-2.06 2.06-.94-2.06-.94-.94-2.06-.94 2.06-2.06.94zm-11 1L8.5 8.5l.94-2.06 2.06-.94-2.06-.94L8.5 2.5l-.94 2.06-2.06.94zm10 10l.94 2.06.94-2.06 2.06-.94-2.06-.94-.94-2.06-.94 2.06-2.06.94z\"/><path d=\"M17.41 7.96l-1.37-1.37c-.4-.4-.92-.59-1.43-.59-.52 0-1.04.2-1.43.59L10.3 9.45l-7.72 7.72c-.78.78-.78 2.05 0 2.83L4 21.41c.39.39.9.59 1.41.59.51 0 1.02-.2 1.41-.59l7.78-7.78 2.81-2.81c.8-.78.8-2.07 0-2.86zM5.41 20L4 18.59l7.72-7.72 1.47 1.35L5.41 20z\"/>\n",
              "  </svg>\n",
              "      </button>\n",
              "      \n",
              "  <style>\n",
              "    .colab-df-container {\n",
              "      display:flex;\n",
              "      flex-wrap:wrap;\n",
              "      gap: 12px;\n",
              "    }\n",
              "\n",
              "    .colab-df-convert {\n",
              "      background-color: #E8F0FE;\n",
              "      border: none;\n",
              "      border-radius: 50%;\n",
              "      cursor: pointer;\n",
              "      display: none;\n",
              "      fill: #1967D2;\n",
              "      height: 32px;\n",
              "      padding: 0 0 0 0;\n",
              "      width: 32px;\n",
              "    }\n",
              "\n",
              "    .colab-df-convert:hover {\n",
              "      background-color: #E2EBFA;\n",
              "      box-shadow: 0px 1px 2px rgba(60, 64, 67, 0.3), 0px 1px 3px 1px rgba(60, 64, 67, 0.15);\n",
              "      fill: #174EA6;\n",
              "    }\n",
              "\n",
              "    [theme=dark] .colab-df-convert {\n",
              "      background-color: #3B4455;\n",
              "      fill: #D2E3FC;\n",
              "    }\n",
              "\n",
              "    [theme=dark] .colab-df-convert:hover {\n",
              "      background-color: #434B5C;\n",
              "      box-shadow: 0px 1px 3px 1px rgba(0, 0, 0, 0.15);\n",
              "      filter: drop-shadow(0px 1px 2px rgba(0, 0, 0, 0.3));\n",
              "      fill: #FFFFFF;\n",
              "    }\n",
              "  </style>\n",
              "\n",
              "      <script>\n",
              "        const buttonEl =\n",
              "          document.querySelector('#df-35646386-5bf3-40c3-8255-2875f4627564 button.colab-df-convert');\n",
              "        buttonEl.style.display =\n",
              "          google.colab.kernel.accessAllowed ? 'block' : 'none';\n",
              "\n",
              "        async function convertToInteractive(key) {\n",
              "          const element = document.querySelector('#df-35646386-5bf3-40c3-8255-2875f4627564');\n",
              "          const dataTable =\n",
              "            await google.colab.kernel.invokeFunction('convertToInteractive',\n",
              "                                                     [key], {});\n",
              "          if (!dataTable) return;\n",
              "\n",
              "          const docLinkHtml = 'Like what you see? Visit the ' +\n",
              "            '<a target=\"_blank\" href=https://colab.research.google.com/notebooks/data_table.ipynb>data table notebook</a>'\n",
              "            + ' to learn more about interactive tables.';\n",
              "          element.innerHTML = '';\n",
              "          dataTable['output_type'] = 'display_data';\n",
              "          await google.colab.output.renderOutput(dataTable, element);\n",
              "          const docLink = document.createElement('div');\n",
              "          docLink.innerHTML = docLinkHtml;\n",
              "          element.appendChild(docLink);\n",
              "        }\n",
              "      </script>\n",
              "    </div>\n",
              "  </div>\n",
              "  "
            ]
          },
          "metadata": {},
          "execution_count": 77
        }
      ],
      "source": [
        "ill_people = data[data[\"ill\"] == \"Yes\"]\n",
        "ill_people"
      ]
    },
    {
      "cell_type": "markdown",
      "metadata": {
        "id": "Qmkv7HmiBQoB"
      },
      "source": [
        "Try answering Q11 - Q14, type \"Finished\" into the chat when you are done"
      ]
    },
    {
      "cell_type": "markdown",
      "metadata": {
        "id": "tlzvOVf6BQoB"
      },
      "source": [
        "- **Q11** Can you display how many people are ill in each city by using a `groupby()` on the `ill_peopple` dataset?"
      ]
    },
    {
      "cell_type": "code",
      "execution_count": null,
      "metadata": {
        "scrolled": true,
        "id": "9KHevVEqBQoC",
        "outputId": "bd8687d8-5556-44b9-a297-bd97c44b8406",
        "colab": {
          "base_uri": "https://localhost:8080/"
        }
      },
      "outputs": [
        {
          "output_type": "stream",
          "name": "stdout",
          "text": [
            "           gender   age  income   ill\n",
            "city                                 \n",
            "Edmonton     1011  1011    1011  1011\n",
            "Halifax       686   686     686   686\n",
            "Montreal     1613  1613    1613  1613\n",
            "Ottawa        668   668     668   668\n",
            "Regina        394   394     394   394\n",
            "Toronto      4021  4021    4021  4021\n",
            "Vancouver    2568  2568    2568  2568\n",
            "Waterloo     1178  1178    1178  1178\n",
            "city\n",
            "Edmonton     1011\n",
            "Halifax       686\n",
            "Montreal     1613\n",
            "Ottawa        668\n",
            "Regina        394\n",
            "Toronto      4021\n",
            "Vancouver    2568\n",
            "Waterloo     1178\n",
            "Name: ill, dtype: int64\n"
          ]
        }
      ],
      "source": [
        "print (ill_people.groupby(\"city\").count())\n",
        "#or\n",
        "print (ill_people.groupby(\"city\")[\"ill\"].count())\n",
        "\n"
      ]
    },
    {
      "cell_type": "markdown",
      "metadata": {
        "id": "fVIIUYUXBQoC"
      },
      "source": [
        "- **Q12** Can you display how many people are ill in each city using a `groupby()` and sorting by highest number of ill people to the lowest number of illl people in the `ill_people` dataset? "
      ]
    },
    {
      "cell_type": "code",
      "execution_count": null,
      "metadata": {
        "id": "Yf7fl2i7BQoC",
        "outputId": "7a16a2da-31ea-4a60-a9f5-3acd1e1ad329",
        "colab": {
          "base_uri": "https://localhost:8080/"
        }
      },
      "outputs": [
        {
          "output_type": "stream",
          "name": "stdout",
          "text": [
            "city\n",
            "Toronto      4021\n",
            "Vancouver    2568\n",
            "Montreal     1613\n",
            "Waterloo     1178\n",
            "Edmonton     1011\n",
            "Halifax       686\n",
            "Ottawa        668\n",
            "Regina        394\n",
            "Name: ill, dtype: int64\n"
          ]
        }
      ],
      "source": [
        "city_ill=ill_people.groupby(\"city\")[\"ill\"].count()\n",
        "\n",
        "sorted_ill=city_ill.sort_values(ascending=False)\n",
        "print (sorted_ill)"
      ]
    },
    {
      "cell_type": "markdown",
      "metadata": {
        "id": "lVeK3j7pBQoC"
      },
      "source": [
        "- **Q13** What is the average age of people in the `ill_people` dataset?"
      ]
    },
    {
      "cell_type": "code",
      "execution_count": null,
      "metadata": {
        "id": "PhfRjkiSBQoC",
        "outputId": "55708a81-4941-48d4-c2dd-0eaf08db068e",
        "colab": {
          "base_uri": "https://localhost:8080/"
        }
      },
      "outputs": [
        {
          "output_type": "stream",
          "name": "stdout",
          "text": [
            "city\n",
            "Edmonton     44.629080\n",
            "Halifax      45.408163\n",
            "Montreal     44.992560\n",
            "Ottawa       44.565868\n",
            "Regina       45.210660\n",
            "Toronto      44.996021\n",
            "Vancouver    45.297508\n",
            "Waterloo     44.846350\n",
            "Name: age, dtype: float64\n"
          ]
        }
      ],
      "source": [
        "##ill_people[\"age\"].mean()\n",
        "##or average by city\n",
        "average_age_ill=ill_people.groupby(\"city\")[\"age\"].mean()\n",
        "print (average_age_ill)"
      ]
    },
    {
      "cell_type": "markdown",
      "metadata": {
        "id": "HVriznUtBQoC"
      },
      "source": [
        "- **Q14** What percentage of people in the `ill_people` dataset have a salary over $100000. (This is probably the most complex question of the day, feel free to take as much time as you need to answer it. Remember you can use `(` & `)` to make sure calculations are done in certain order and the python symbol for division is `/`.)"
      ]
    },
    {
      "cell_type": "code",
      "execution_count": null,
      "metadata": {
        "id": "XeLyFaE_BQoC",
        "outputId": "76471a3b-86a8-41a1-ed0c-843b7393248a",
        "colab": {
          "base_uri": "https://localhost:8080/"
        }
      },
      "outputs": [
        {
          "output_type": "stream",
          "name": "stdout",
          "text": [
            "city      35.068787\n",
            "gender    35.068787\n",
            "age       35.068787\n",
            "income    35.068787\n",
            "ill       35.068787\n",
            "dtype: float64\n"
          ]
        }
      ],
      "source": [
        "##ratio = len(ill_people[ill_people[\"income\"] > 100000])/len(ill_people)\n",
        "##ill_people_percent = ratio * 100\n",
        "##print(ill_people_percent)\n",
        "## or \n",
        "ratio =ill_people[ill_people[\"income\"] >100000].count()/ill_people.count()\n",
        "ill_people_percent = ratio * 100\n",
        "print (ill_people_percent)\n"
      ]
    },
    {
      "cell_type": "markdown",
      "metadata": {
        "id": "lkzQrU6VBQoC"
      },
      "source": [
        "## One brief statistical digression\n",
        "\n",
        "Before we change gears to look at how we can visualize some of this data, let's just take a look at a (admittedly) more complex piece on analysis just to demonstrate how much heaving lifing Pandas can do for us.\n",
        "\n",
        "We are just going to create a [Correlation Matrix](https://en.wikipedia.org/wiki/Correlation#Correlation_matrices). This will basically tell us how strongly each column influences on another."
      ]
    },
    {
      "cell_type": "code",
      "execution_count": null,
      "metadata": {
        "id": "UrWjvsACBQoD",
        "outputId": "25eab706-7f1d-49cf-ab43-0f5f0618a36c",
        "colab": {
          "base_uri": "https://localhost:8080/",
          "height": 143
        }
      },
      "outputs": [
        {
          "output_type": "execute_result",
          "data": {
            "text/plain": [
              "             age    income       ill\n",
              "age     1.000000 -0.001318  0.001811\n",
              "income -0.001318  1.000000  0.000298\n",
              "ill     0.001811  0.000298  1.000000"
            ],
            "text/html": [
              "\n",
              "  <div id=\"df-6aeea68c-7efe-4307-ad41-c68619ba4fbd\">\n",
              "    <div class=\"colab-df-container\">\n",
              "      <div>\n",
              "<style scoped>\n",
              "    .dataframe tbody tr th:only-of-type {\n",
              "        vertical-align: middle;\n",
              "    }\n",
              "\n",
              "    .dataframe tbody tr th {\n",
              "        vertical-align: top;\n",
              "    }\n",
              "\n",
              "    .dataframe thead th {\n",
              "        text-align: right;\n",
              "    }\n",
              "</style>\n",
              "<table border=\"1\" class=\"dataframe\">\n",
              "  <thead>\n",
              "    <tr style=\"text-align: right;\">\n",
              "      <th></th>\n",
              "      <th>age</th>\n",
              "      <th>income</th>\n",
              "      <th>ill</th>\n",
              "    </tr>\n",
              "  </thead>\n",
              "  <tbody>\n",
              "    <tr>\n",
              "      <th>age</th>\n",
              "      <td>1.000000</td>\n",
              "      <td>-0.001318</td>\n",
              "      <td>0.001811</td>\n",
              "    </tr>\n",
              "    <tr>\n",
              "      <th>income</th>\n",
              "      <td>-0.001318</td>\n",
              "      <td>1.000000</td>\n",
              "      <td>0.000298</td>\n",
              "    </tr>\n",
              "    <tr>\n",
              "      <th>ill</th>\n",
              "      <td>0.001811</td>\n",
              "      <td>0.000298</td>\n",
              "      <td>1.000000</td>\n",
              "    </tr>\n",
              "  </tbody>\n",
              "</table>\n",
              "</div>\n",
              "      <button class=\"colab-df-convert\" onclick=\"convertToInteractive('df-6aeea68c-7efe-4307-ad41-c68619ba4fbd')\"\n",
              "              title=\"Convert this dataframe to an interactive table.\"\n",
              "              style=\"display:none;\">\n",
              "        \n",
              "  <svg xmlns=\"http://www.w3.org/2000/svg\" height=\"24px\"viewBox=\"0 0 24 24\"\n",
              "       width=\"24px\">\n",
              "    <path d=\"M0 0h24v24H0V0z\" fill=\"none\"/>\n",
              "    <path d=\"M18.56 5.44l.94 2.06.94-2.06 2.06-.94-2.06-.94-.94-2.06-.94 2.06-2.06.94zm-11 1L8.5 8.5l.94-2.06 2.06-.94-2.06-.94L8.5 2.5l-.94 2.06-2.06.94zm10 10l.94 2.06.94-2.06 2.06-.94-2.06-.94-.94-2.06-.94 2.06-2.06.94z\"/><path d=\"M17.41 7.96l-1.37-1.37c-.4-.4-.92-.59-1.43-.59-.52 0-1.04.2-1.43.59L10.3 9.45l-7.72 7.72c-.78.78-.78 2.05 0 2.83L4 21.41c.39.39.9.59 1.41.59.51 0 1.02-.2 1.41-.59l7.78-7.78 2.81-2.81c.8-.78.8-2.07 0-2.86zM5.41 20L4 18.59l7.72-7.72 1.47 1.35L5.41 20z\"/>\n",
              "  </svg>\n",
              "      </button>\n",
              "      \n",
              "  <style>\n",
              "    .colab-df-container {\n",
              "      display:flex;\n",
              "      flex-wrap:wrap;\n",
              "      gap: 12px;\n",
              "    }\n",
              "\n",
              "    .colab-df-convert {\n",
              "      background-color: #E8F0FE;\n",
              "      border: none;\n",
              "      border-radius: 50%;\n",
              "      cursor: pointer;\n",
              "      display: none;\n",
              "      fill: #1967D2;\n",
              "      height: 32px;\n",
              "      padding: 0 0 0 0;\n",
              "      width: 32px;\n",
              "    }\n",
              "\n",
              "    .colab-df-convert:hover {\n",
              "      background-color: #E2EBFA;\n",
              "      box-shadow: 0px 1px 2px rgba(60, 64, 67, 0.3), 0px 1px 3px 1px rgba(60, 64, 67, 0.15);\n",
              "      fill: #174EA6;\n",
              "    }\n",
              "\n",
              "    [theme=dark] .colab-df-convert {\n",
              "      background-color: #3B4455;\n",
              "      fill: #D2E3FC;\n",
              "    }\n",
              "\n",
              "    [theme=dark] .colab-df-convert:hover {\n",
              "      background-color: #434B5C;\n",
              "      box-shadow: 0px 1px 3px 1px rgba(0, 0, 0, 0.15);\n",
              "      filter: drop-shadow(0px 1px 2px rgba(0, 0, 0, 0.3));\n",
              "      fill: #FFFFFF;\n",
              "    }\n",
              "  </style>\n",
              "\n",
              "      <script>\n",
              "        const buttonEl =\n",
              "          document.querySelector('#df-6aeea68c-7efe-4307-ad41-c68619ba4fbd button.colab-df-convert');\n",
              "        buttonEl.style.display =\n",
              "          google.colab.kernel.accessAllowed ? 'block' : 'none';\n",
              "\n",
              "        async function convertToInteractive(key) {\n",
              "          const element = document.querySelector('#df-6aeea68c-7efe-4307-ad41-c68619ba4fbd');\n",
              "          const dataTable =\n",
              "            await google.colab.kernel.invokeFunction('convertToInteractive',\n",
              "                                                     [key], {});\n",
              "          if (!dataTable) return;\n",
              "\n",
              "          const docLinkHtml = 'Like what you see? Visit the ' +\n",
              "            '<a target=\"_blank\" href=https://colab.research.google.com/notebooks/data_table.ipynb>data table notebook</a>'\n",
              "            + ' to learn more about interactive tables.';\n",
              "          element.innerHTML = '';\n",
              "          dataTable['output_type'] = 'display_data';\n",
              "          await google.colab.output.renderOutput(dataTable, element);\n",
              "          const docLink = document.createElement('div');\n",
              "          docLink.innerHTML = docLinkHtml;\n",
              "          element.appendChild(docLink);\n",
              "        }\n",
              "      </script>\n",
              "    </div>\n",
              "  </div>\n",
              "  "
            ]
          },
          "metadata": {},
          "execution_count": 109
        }
      ],
      "source": [
        "#Reload our data\n",
        "data = pd.read_csv(\"https://brockdsl.github.io/Python_2.0_Workshop/canadian_toy_dataset.csv\")\n",
        "\n",
        "#Tell it what our columns are by passing along a list of that information\n",
        "data.columns = [\"city\",\"gender\",\"age\",\"income\",\"ill\"]\n",
        "\n",
        "#Change our ill_data to a number so the analysis will pick it up\n",
        "data[\"ill\"].replace({\"No\":0, \"Yes\":1},inplace=True)\n",
        "\n",
        "#First the correlation matrix directly from pandas\n",
        "data.corr()\n"
      ]
    },
    {
      "cell_type": "code",
      "execution_count": null,
      "metadata": {
        "id": "PbY7gKpUBQoD",
        "outputId": "53d1d1db-39d2-4821-d6da-f8cf738b423c",
        "colab": {
          "base_uri": "https://localhost:8080/",
          "height": 510
        }
      },
      "outputs": [
        {
          "output_type": "error",
          "ename": "NameError",
          "evalue": "ignored",
          "traceback": [
            "\u001b[0;31m---------------------------------------------------------------------------\u001b[0m",
            "\u001b[0;31mNameError\u001b[0m                                 Traceback (most recent call last)",
            "\u001b[0;32m<ipython-input-112-7ff22bedce77>\u001b[0m in \u001b[0;36m<module>\u001b[0;34m()\u001b[0m\n\u001b[1;32m      5\u001b[0m \u001b[0msn\u001b[0m\u001b[0;34m.\u001b[0m\u001b[0mset\u001b[0m\u001b[0;34m(\u001b[0m\u001b[0mrc\u001b[0m\u001b[0;34m=\u001b[0m\u001b[0;34m{\u001b[0m\u001b[0;34m'figure.figsize'\u001b[0m\u001b[0;34m:\u001b[0m\u001b[0;34m(\u001b[0m\u001b[0;36m5\u001b[0m\u001b[0;34m,\u001b[0m\u001b[0;36m5\u001b[0m\u001b[0;34m)\u001b[0m\u001b[0;34m}\u001b[0m\u001b[0;34m)\u001b[0m\u001b[0;34m\u001b[0m\u001b[0;34m\u001b[0m\u001b[0m\n\u001b[1;32m      6\u001b[0m \u001b[0msn\u001b[0m\u001b[0;34m.\u001b[0m\u001b[0mheatmap\u001b[0m\u001b[0;34m(\u001b[0m\u001b[0mdata\u001b[0m\u001b[0;34m.\u001b[0m\u001b[0mcorr\u001b[0m\u001b[0;34m(\u001b[0m\u001b[0;34m)\u001b[0m\u001b[0;34m,\u001b[0m \u001b[0mannot\u001b[0m\u001b[0;34m=\u001b[0m\u001b[0;32mTrue\u001b[0m\u001b[0;34m)\u001b[0m\u001b[0;34m\u001b[0m\u001b[0;34m\u001b[0m\u001b[0m\n\u001b[0;32m----> 7\u001b[0;31m \u001b[0mplt\u001b[0m\u001b[0;34m.\u001b[0m\u001b[0mshow\u001b[0m\u001b[0;34m(\u001b[0m\u001b[0;34m)\u001b[0m\u001b[0;34m\u001b[0m\u001b[0;34m\u001b[0m\u001b[0m\n\u001b[0m",
            "\u001b[0;31mNameError\u001b[0m: name 'plt' is not defined"
          ]
        },
        {
          "output_type": "display_data",
          "data": {
            "text/plain": [
              "<Figure size 360x360 with 2 Axes>"
            ],
            "image/png": "[encoded data removed]"
          },
          "metadata": {}
        }
      ],
      "source": [
        "#We'll be using the Seaborne library (https://seaborn.pydata.org/) here \n",
        "#as it has a great corr matrix visualization\n",
        "import seaborn as sn\n",
        "\n",
        "sn.set(rc={'figure.figsize':(5,5)})\n",
        "sn.heatmap(data.corr(), annot=True)\n",
        "plt.show()\n",
        "\n",
        "### view grid only - ignore error"
      ]
    },
    {
      "cell_type": "markdown",
      "metadata": {
        "id": "vXLGgUNOBQoD"
      },
      "source": [
        "If you've never seen on of these below, this basically tell us there is no strong correlation between our columns of data. So if continue to keep digging into the numbers we are not likely to find any interesting statistical nuggets. "
      ]
    },
    {
      "cell_type": "markdown",
      "metadata": {
        "id": "pCbSrmo0BQoD"
      },
      "source": [
        "# Another Library, MatplotLib\n",
        "\n",
        "Let's take a look at graphing our results. We can use the `matplotlib` library to generate some graphs of our results. We always gives lists as parameters for the graphs\n"
      ]
    },
    {
      "cell_type": "code",
      "execution_count": null,
      "metadata": {
        "id": "k4UvQ50WBQoD",
        "outputId": "0c8f991e-44ef-4952-e013-cc40fca13672",
        "colab": {
          "base_uri": "https://localhost:8080/"
        }
      },
      "outputs": [
        {
          "output_type": "stream",
          "name": "stdout",
          "text": [
            "Additional Libraries are loaded and ready!\n"
          ]
        }
      ],
      "source": [
        "#This line is for Jupyter's benefit\n",
        "%matplotlib inline\n",
        "#Import MayPlotLib to graph some results\n",
        "import matplotlib.pyplot as plt\n",
        "\n",
        "print(\"Additional Libraries are loaded and ready!\")"
      ]
    },
    {
      "cell_type": "markdown",
      "metadata": {
        "id": "fCKoTaxDBQoD"
      },
      "source": [
        "Let's reload our data into a new dataframe"
      ]
    },
    {
      "cell_type": "code",
      "execution_count": null,
      "metadata": {
        "id": "-bBnPCEjBQoD",
        "outputId": "9aa7bdc4-2fc1-4f7f-9c5c-b828fae01cec",
        "colab": {
          "base_uri": "https://localhost:8080/"
        }
      },
      "outputs": [
        {
          "output_type": "stream",
          "name": "stdout",
          "text": [
            "Data loaded!\n"
          ]
        }
      ],
      "source": [
        "#Load the file\n",
        "graph_data = pd.read_csv(\"https://brockdsl.github.io/Python_2.0_Workshop/canadian_toy_dataset.csv\")\n",
        "\n",
        "#Tell it what our columns are\n",
        "graph_data.columns = [\"city\",\"gender\",\"age\",\"income\",\"ill\"]\n",
        "\n",
        "print(\"Data loaded!\")"
      ]
    },
    {
      "cell_type": "markdown",
      "metadata": {
        "id": "Aw0VTGUwBQoE"
      },
      "source": [
        "## Pie Graphs\n",
        "\n",
        "Let's draw a pie graph of the number of people that are `ill` versus people that are not ill. We create smaller data frames that match a selection criteria. In the first case, only people with the `ill` column set to `yes`, line 2. In the second case only people with the `ill` column set to `no`, line 6."
      ]
    },
    {
      "cell_type": "code",
      "execution_count": null,
      "metadata": {
        "scrolled": false,
        "id": "cjIBP_LwBQoE",
        "outputId": "a01aaaf0-2998-4cfd-a380-76e9a2989e1d",
        "colab": {
          "base_uri": "https://localhost:8080/",
          "height": 283
        }
      },
      "outputs": [
        {
          "output_type": "stream",
          "name": "stdout",
          "text": [
            "People ill: 12139\n",
            "People Not ill: 137861\n"
          ]
        },
        {
          "output_type": "display_data",
          "data": {
            "text/plain": [
              "<Figure size 432x288 with 1 Axes>"
            ],
            "image/png": "[encoded data removed]"
          },
          "metadata": {}
        }
      ],
      "source": [
        "#All of the ill people\n",
        "total_ill = graph_data[graph_data[\"ill\"] == \"Yes\"][\"ill\"].count()\n",
        "print(\"People ill: \" + str(total_ill))\n",
        "\n",
        "#All the people not ill\n",
        "total_not_ill = graph_data[graph_data['ill'] == \"No\"][\"ill\"].count()\n",
        "print(\"People Not ill: \"+ str(total_not_ill))\n",
        "\n",
        "\n",
        "# Matplot lib always wants data in a list, so we'll make one\n",
        "pie_data = [total_ill,total_not_ill]\n",
        "pie_labels = [\"Ill\", \"Not Ill\"]\n",
        "plt.pie(pie_data,labels=pie_labels,startangle=90)\n",
        "\n",
        "plt.show()"
      ]
    },
    {
      "cell_type": "markdown",
      "metadata": {
        "id": "2D4UMYmIBQoE"
      },
      "source": [
        "Try questions Q15  - Q16 and type \"Completed\" in the chat when you're done."
      ]
    },
    {
      "cell_type": "markdown",
      "metadata": {
        "id": "fSDbbSuBBQoE"
      },
      "source": [
        "- **Q15** Can you create a pie graph that shows the gender distribution in the data? You just need to modify line 2 & 5"
      ]
    },
    {
      "cell_type": "code",
      "execution_count": null,
      "metadata": {
        "id": "h4b3IfinBQoE",
        "outputId": "0ed4470f-d9d0-4d1d-cff6-5b98b1653576",
        "colab": {
          "base_uri": "https://localhost:8080/",
          "height": 248
        }
      },
      "outputs": [
        {
          "output_type": "display_data",
          "data": {
            "text/plain": [
              "<Figure size 432x288 with 1 Axes>"
            ],
            "image/png": "[encoded data removed]"
          },
          "metadata": {}
        }
      ],
      "source": [
        "#Fill in the following\n",
        "females_ill = graph_data[graph_data[\"gender\"] ==\"Female\"][\"ill\"].count()\n",
        "\n",
        "#Fill in the following\n",
        "males_ill = graph_data[graph_data[\"gender\"] ==\"Male\"][\"ill\"].count()\n",
        "\n",
        "pie_data = [females_ill,males_ill]\n",
        "pie_labels = [\"Females\",\"Males\"]\n",
        "plt.pie(pie_data,labels=pie_labels)\n",
        "\n",
        "plt.show()"
      ]
    },
    {
      "cell_type": "markdown",
      "metadata": {
        "id": "WaZo-iG-BQoE"
      },
      "source": [
        "- **Q16** Can you create a pie graph that shows the how many people in the dataset make over 100000 annual income? You just need to modify line 2 & 5."
      ]
    },
    {
      "cell_type": "code",
      "execution_count": null,
      "metadata": {
        "id": "blbAGwrrBQoE",
        "outputId": "3bdb6dc2-cb1c-4da9-89e0-d8e8e773ad0a",
        "colab": {
          "base_uri": "https://localhost:8080/",
          "height": 248
        }
      },
      "outputs": [
        {
          "output_type": "display_data",
          "data": {
            "text/plain": [
              "<Figure size 432x288 with 1 Axes>"
            ],
            "image/png": "[encoded data removed]"
          },
          "metadata": {}
        }
      ],
      "source": [
        "#Fill in the following\n",
        "over_100k = graph_data[graph_data[\"income\"] > 100000][\"income\"].count()\n",
        "\n",
        "#Fill in the following\n",
        "under_100k = graph_data[graph_data[\"income\"] <= 100000][\"income\"].count()\n",
        "\n",
        "pie_data = [over_100k, under_100k]\n",
        "pie_labels = [\"Over 100k\",\"Under 100k\"]\n",
        "plt.pie(pie_data,labels=pie_labels)\n",
        "\n",
        "plt.show()"
      ]
    },
    {
      "cell_type": "markdown",
      "metadata": {
        "id": "YSt-ElEYBQoF"
      },
      "source": [
        "# Congrats!\n",
        "\n",
        "You now know a bit about Python Libraries and using advance features of the Language. Try adding new cells to this page and asking yourself more questions"
      ]
    },
    {
      "cell_type": "markdown",
      "metadata": {
        "id": "rDjVHc20BQoF"
      },
      "source": [
        "## Interested in more workshop?\n",
        "\n",
        "We offer a few other Python workshops that build on what we learned today.\n",
        "\n",
        "- [Text Analysis with Python](https://brockdsl.github.io/Text_Analysis_with_Python/) - An introduction to the different types of analysis you can perform on text using Python\n",
        "- [Machine Learning with Python](https://brockdsl.github.io/Machine_Learning_with_Python/) - A very easy introduction to the first step of artificial intelligence programming. \n",
        "\n",
        "All of our workshop times are listed on our [Eventbrite](https://brockdsl.eventbrite.com) page."
      ]
    },
    {
      "cell_type": "markdown",
      "metadata": {
        "id": "aMNO2XsSBQoF"
      },
      "source": [
        "## Further Reading\n",
        "\n",
        "- Now that we've handled the basics here are some interesting next steps you can persue.\n",
        "\n",
        "[Python For Librarians](https://libraryjuiceacademy.com/shop/course/270-python-for-librarians/?attribute_pa_session=2021-05-may) - A four week asynchronous professional development course that examines how to use Python.\n",
        "\n",
        "[Kaggle](https://www.kaggle.com/) - An online portal that teaches data science using Notebooks, also has contests for cash prizes\n",
        "\n",
        "[Python the Hard Way](https://learntocodetogether.com/learn-python-the-hard-way-free-ebook-download/) - Don't let the name fool you, this book is a great introduction to Python and programming more generally\n",
        "\n",
        "[Data Analysis with Python and Sci Hub](https://brockdsl.github.io/SciHub_Workshop/) - A tutorial on using Python to analyze Sci-Hub data. Similar to what we saw today, but with real data.\n",
        "\n",
        "[Google Colab FAQ](https://research.google.com/colaboratory/faq.html) - A concise set of questions and answers on how to use the Google Colab environment.\n",
        "\n",
        "[Thinking in Pandas](https://www.apress.com/gp/book/9781484258385) - A short book that looks at how to use Pandas for analysis.\n",
        "\n",
        "\n",
        "Have questions about Python and data science. Drop us a line at `dsl @ brocku.ca`"
      ]
    },
    {
      "cell_type": "markdown",
      "metadata": {
        "id": "sZ_ylzyMBQoF"
      },
      "source": [
        "## Extra Question: Automatic Histograms\n",
        "\n",
        "\n",
        "Say we wanted to plot out the income distribution of our data set as a [historgram](https://en.wikipedia.org/wiki/Histogram) "
      ]
    },
    {
      "cell_type": "code",
      "execution_count": null,
      "metadata": {
        "scrolled": true,
        "id": "G19Ra8ECBQoF",
        "outputId": "31bd1be9-ef5b-41e8-d9cc-7fba42a702c7",
        "colab": {
          "base_uri": "https://localhost:8080/",
          "height": 301
        }
      },
      "outputs": [
        {
          "output_type": "display_data",
          "data": {
            "text/plain": [
              "<Figure size 432x288 with 1 Axes>"
            ],
            "image/png": "[encoded data removed]"
          },
          "metadata": {
            "needs_background": "light"
          }
        }
      ],
      "source": [
        "# bins is the number of containers we'll split our x-axis values into\n",
        "bins = 250\n",
        "\n",
        "plt.hist(graph_data[\"income\"],bins)\n",
        "\n",
        "plt.title(\"Income distribution\")\n",
        "plt.xlabel(\"Income\")\n",
        "plt.ylabel(\"Occurrences\")\n",
        "\n",
        "plt.show()"
      ]
    },
    {
      "cell_type": "markdown",
      "metadata": {
        "id": "GLisuYOYBQoF"
      },
      "source": [
        "**Q17** Can you draw a histogram of the `age` distribution? Make sure to give it the axes good descriptions. You just need to modify line 1,5, & 6. (The example above should help you) "
      ]
    },
    {
      "cell_type": "code",
      "execution_count": null,
      "metadata": {
        "scrolled": true,
        "id": "QGYRxieYBQoF",
        "outputId": "9b76192d-f23e-4235-a44f-07751c9871ea",
        "colab": {
          "base_uri": "https://localhost:8080/",
          "height": 301
        }
      },
      "outputs": [
        {
          "output_type": "display_data",
          "data": {
            "text/plain": [
              "<Figure size 432x288 with 1 Axes>"
            ],
            "image/png": "[encoded data removed]"
          },
          "metadata": {
            "needs_background": "light"
          }
        }
      ],
      "source": [
        "bins = 40\n",
        "\n",
        "plt.hist(graph_data[\"age\"],bins) \n",
        "plt.title(\"Age Distribution\")\n",
        "plt.xlabel(\"Age\")\n",
        "plt.ylabel(\"Occurrences\") \n",
        "\n",
        "plt.show()"
      ]
    }
  ],
  "metadata": {
    "kernelspec": {
      "display_name": "Python 3",
      "language": "python",
      "name": "python3"
    },
    "language_info": {
      "codemirror_mode": {
        "name": "ipython",
        "version": 3
      },
      "file_extension": ".py",
      "mimetype": "text/x-python",
      "name": "python",
      "nbconvert_exporter": "python",
      "pygments_lexer": "ipython3",
      "version": "3.7.4"
    },
    "colab": {
      "name": "Copy of 01_a_bit_more_Python.ipynb",
      "provenance": [],
      "include_colab_link": true
    }
  },
  "nbformat": 4,
  "nbformat_minor": 0
}